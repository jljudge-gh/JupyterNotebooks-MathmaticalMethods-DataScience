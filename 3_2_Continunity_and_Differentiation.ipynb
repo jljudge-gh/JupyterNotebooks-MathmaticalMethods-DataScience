{
  "nbformat": 4,
  "nbformat_minor": 0,
  "metadata": {
    "colab": {
      "name": "3.2 Continunity and Differentiation.ipynb",
      "provenance": [],
      "authorship_tag": "ABX9TyNZHb5rW/6JgwbQlZNH4J0X",
      "include_colab_link": true
    },
    "kernelspec": {
      "name": "python3",
      "display_name": "Python 3"
    },
    "language_info": {
      "name": "python"
    }
  },
  "cells": [
    {
      "cell_type": "markdown",
      "metadata": {
        "id": "view-in-github",
        "colab_type": "text"
      },
      "source": [
        "<a href=\"https://colab.research.google.com/github/jljudge-gh/JupyterNotebooks-MathmaticalMethods-DataScience/blob/main/3_2_Continunity_and_Differentiation.ipynb\" target=\"_parent\"><img src=\"https://colab.research.google.com/assets/colab-badge.svg\" alt=\"Open In Colab\"/></a>"
      ]
    },
    {
      "cell_type": "markdown",
      "metadata": {
        "id": "JLIV4tdxbJ7a"
      },
      "source": [
        "#3.2 Continunity and Differentiation"
      ]
    },
    {
      "cell_type": "markdown",
      "metadata": {
        "id": "pPVJzzoCbMh8"
      },
      "source": [
        "##3.2.1 Limits and Continuity"
      ]
    },
    {
      "cell_type": "markdown",
      "metadata": {
        "id": "w_8fjQ8ebOnU"
      },
      "source": [
        "###Definition 3.2.1 (Limits of a function)\n",
        "Let $f: D \\rightarrow \\mathbb{R}$ be a real-valued function on $D \\subseteq \\mathbb{R}^{d}$. Then $f$ is said to have a limit $L \\in \\mathbb{R}$ as $\\mathbf{x}$ approaches a if: for any $\\varepsilon>0$, there exists a $\\delta>0$ such that $|f(\\mathbf{x})-L|<\\varepsilon$ for all $\\mathbf{x} \\in D \\cap B_{\\delta}(\\mathbf{a}) \\backslash\\{\\mathbf{a}\\}$. This is written as\n",
        "$$\n",
        "\\lim _{\\mathbf{x} \\rightarrow \\mathbf{a}} f(\\mathbf{x})=L\n",
        "$$"
      ]
    },
    {
      "cell_type": "markdown",
      "metadata": {
        "id": "KOOIgHW3dB6c"
      },
      "source": [
        "#### Calculating limits in Python using `sympy`"
      ]
    },
    {
      "cell_type": "markdown",
      "metadata": {
        "id": "lKpBr61PdGDa"
      },
      "source": [
        "**Example 1:** $\\lim_{x \\rightarrow 0 } \\frac{1}{x} $"
      ]
    },
    {
      "cell_type": "code",
      "metadata": {
        "colab": {
          "base_uri": "https://localhost:8080/"
        },
        "id": "Rm-wLXQhdGYI",
        "outputId": "0eafc0e6-bf8e-48f7-95d9-7c0157d1374b"
      },
      "source": [
        "from sympy import limit, Symbol \n",
        "x = Symbol('x') \n",
        "y = 1/x \n",
        "l = limit(y, x, 0)\n",
        "print(\"The Limit of the expression evalutates to:\",l)"
      ],
      "execution_count": 4,
      "outputs": [
        {
          "output_type": "stream",
          "name": "stdout",
          "text": [
            "The Limit of the expression evalutates to: oo\n"
          ]
        }
      ]
    },
    {
      "cell_type": "markdown",
      "metadata": {
        "id": "ZI0kIVp1dwFV"
      },
      "source": [
        "**Example 2:** $\\lim_{x \\rightarrow 4  } x^2$"
      ]
    },
    {
      "cell_type": "code",
      "metadata": {
        "colab": {
          "base_uri": "https://localhost:8080/"
        },
        "id": "hqvCunxQdwKo",
        "outputId": "b7741458-cb3d-4d25-e3db-7aa33223e4ac"
      },
      "source": [
        "import sympy as sp\n",
        "x = sp.Symbol('x') \n",
        "y = x**2 \n",
        "l = sp.limit(y, x, 4)\n",
        "print(\"The Limit of the expression evalutates to:\",l)"
      ],
      "execution_count": 9,
      "outputs": [
        {
          "output_type": "stream",
          "name": "stdout",
          "text": [
            "The Limit of the expression evalutates to: 16\n"
          ]
        }
      ]
    },
    {
      "cell_type": "markdown",
      "metadata": {
        "id": "lOHtmVZEeb7i"
      },
      "source": [
        "**Example 3:** $\\lim_{y \\rightarrow 0  } \\frac{\\sin(2y)}{y}$"
      ]
    },
    {
      "cell_type": "code",
      "metadata": {
        "colab": {
          "base_uri": "https://localhost:8080/"
        },
        "id": "9oYjXNcCeb25",
        "outputId": "efbbed2d-324a-4e32-b4db-6eae5008e997"
      },
      "source": [
        "import sympy as sp\n",
        "y = sp.Symbol('y')\n",
        "f = sp.sin(2*y)/y\n",
        "l = sp.limit(f,y,0)\n",
        "print(\"The Limit of the expression evalutates to:\",l)"
      ],
      "execution_count": 10,
      "outputs": [
        {
          "output_type": "stream",
          "name": "stdout",
          "text": [
            "The Limit of the expression evalutates to: 2\n"
          ]
        }
      ]
    },
    {
      "cell_type": "markdown",
      "metadata": {
        "id": "GSZhiq0tbni2"
      },
      "source": [
        "###Definition 3.2.2 (Continuous function)\n",
        "Let $f: D \\rightarrow \\mathbb{R}$ be a real-valued function on $D \\subseteq \\mathbb{R}^{d}$. Then $f$ is said to be continuous at $\\mathbf{a} \\in D$ if\n",
        "$$\n",
        "\\lim _{\\mathbf{x} \\rightarrow \\mathbf{a}} f(\\mathbf{x})=f(\\mathbf{a})\n",
        "$$"
      ]
    },
    {
      "cell_type": "markdown",
      "metadata": {
        "id": "1EKkkAoHf7ug"
      },
      "source": [
        "#### Plotting continous function in Python"
      ]
    },
    {
      "cell_type": "markdown",
      "metadata": {
        "id": "AHMW9VWGgSbz"
      },
      "source": [
        "A function is said to be continuous at a point a if the following statements hold:\n",
        "*   the function $f$ is defined at $a$\n",
        "*   the limit $\\lim_{x \\to a} \\space f(x)$ exists\n",
        "*   the limit is equal to $f(x) \\to f(a) \\space \\text{as} \\space f \\to a$\n",
        "\n",
        "Continuity of a function can also be expressed more compactly by the statement: $f(x) \\to f(a) \\space \\text{as} \\space f \\to a$\n",
        "\n",
        "We can plot functions to get a better understanding of where the discontinuity lay."
      ]
    },
    {
      "cell_type": "code",
      "metadata": {
        "id": "i3vweixkf6cL"
      },
      "source": [
        "import numpy as np\n",
        "import matplotlib.pyplot as plt"
      ],
      "execution_count": 12,
      "outputs": []
    },
    {
      "cell_type": "markdown",
      "metadata": {
        "id": "I-EAknCmgxoP"
      },
      "source": [
        "**Example 1:** $f(x) = \\frac{1}{x^2}$"
      ]
    },
    {
      "cell_type": "code",
      "metadata": {
        "colab": {
          "base_uri": "https://localhost:8080/",
          "height": 337
        },
        "id": "0rnTi77EhCYX",
        "outputId": "fdf2c52c-2901-4e16-9896-4026ec472d93"
      },
      "source": [
        "def f1(x):\n",
        "    return 1.0 / x ** 2.0\n",
        "\n",
        "fx1 = np.linspace(-2, 2, 1000)\n",
        "plt.figure(figsize=(14,5))\n",
        "plt.plot(fx1, f1(fx1), fx1, f1(fx1))\n",
        "plt.xlim([-1, 1])\n",
        "plt.ylim([-500, 9500])"
      ],
      "execution_count": 20,
      "outputs": [
        {
          "output_type": "execute_result",
          "data": {
            "text/plain": [
              "(-500.0, 9500.0)"
            ]
          },
          "metadata": {},
          "execution_count": 20
        },
        {
          "output_type": "display_data",
          "data": {
            "image/png": "[encoded data removed]",
            "text/plain": [
              "<Figure size 1008x360 with 1 Axes>"
            ]
          },
          "metadata": {
            "needs_background": "light"
          }
        }
      ]
    },
    {
      "cell_type": "markdown",
      "metadata": {
        "id": "SuAq7k22g3VY"
      },
      "source": [
        "**Example 2:** $f(x) = \\frac{x + 4}{(x - 1)(x - 8)}$"
      ]
    },
    {
      "cell_type": "code",
      "metadata": {
        "colab": {
          "base_uri": "https://localhost:8080/",
          "height": 354
        },
        "id": "UMU1dDlVhCzL",
        "outputId": "ca864a0e-14a1-42ee-835b-cc620c656e5f"
      },
      "source": [
        "def f2(x):\n",
        "    return (x + 4.0) / ((x - 1.0) * (x - 8.0))\n",
        "\n",
        "fx2 = np.linspace(6, 10, 100)\n",
        "plt.figure(figsize=(14,5))\n",
        "plt.plot(fx2, f2(fx2), fx2, f2(fx2))"
      ],
      "execution_count": 23,
      "outputs": [
        {
          "output_type": "execute_result",
          "data": {
            "text/plain": [
              "[<matplotlib.lines.Line2D at 0x7f3890ce2850>,\n",
              " <matplotlib.lines.Line2D at 0x7f3890ce2a50>]"
            ]
          },
          "metadata": {},
          "execution_count": 23
        },
        {
          "output_type": "display_data",
          "data": {
            "image/png": "[encoded data removed]",
            "text/plain": [
              "<Figure size 1008x360 with 1 Axes>"
            ]
          },
          "metadata": {
            "needs_background": "light"
          }
        }
      ]
    },
    {
      "cell_type": "markdown",
      "metadata": {
        "id": "fJfAynDrg9_a"
      },
      "source": [
        "**Example 3:** $f(x) = \\frac{1}{x - 1}$"
      ]
    },
    {
      "cell_type": "code",
      "metadata": {
        "colab": {
          "base_uri": "https://localhost:8080/",
          "height": 354
        },
        "id": "Stg5n54chDTC",
        "outputId": "b5d18388-052b-4c34-de58-65d9ea966e55"
      },
      "source": [
        "def f3(x):\n",
        "    return 1 / (x - 1)\n",
        "\n",
        "fx3 = np.linspace(0, 2, 100)\n",
        "plt.figure(figsize=(14,5))\n",
        "plt.plot(fx3, f3(fx3), fx3, f3(fx3))"
      ],
      "execution_count": 24,
      "outputs": [
        {
          "output_type": "execute_result",
          "data": {
            "text/plain": [
              "[<matplotlib.lines.Line2D at 0x7f3890c56c90>,\n",
              " <matplotlib.lines.Line2D at 0x7f3890c56e90>]"
            ]
          },
          "metadata": {},
          "execution_count": 24
        },
        {
          "output_type": "display_data",
          "data": {
            "image/png": "[encoded data removed]",
            "text/plain": [
              "<Figure size 1008x360 with 1 Axes>"
            ]
          },
          "metadata": {
            "needs_background": "light"
          }
        }
      ]
    },
    {
      "cell_type": "markdown",
      "metadata": {
        "id": "rQYoNvB4sW-4"
      },
      "source": [
        "#### Lemma 3.2.3 (Composition of Continuous Functions) \n",
        "Let $\\mathbf{f}: D_{1} \\rightarrow \\mathbb{R}^{m}$, where $D_{1} \\subseteq \\mathbb{R}^{d}$, and let $\\mathbf{g}: D_{2} \\rightarrow \\mathbb{R}^{p}$, where $D_{2} \\subseteq \\mathbb{R}^{m}$. Assume that $\\mathbf{f}$ is continuous at $\\mathbf{x}_{0}$ and that $\\mathbf{g}$ is continuous $\\mathbf{f}\\left(\\mathbf{x}_{0}\\right)$. Then $g \\circ f$ is continuous at $\\mathbf{x}_{0}$."
      ]
    },
    {
      "cell_type": "markdown",
      "metadata": {
        "id": "4e5o2jM2sY89"
      },
      "source": [
        "#### Definition 3.2.4 (Extremum) \n",
        "Suppose $f: D \\rightarrow \\mathbb{R}$ is defined on a set $D \\subseteq \\mathbb{R}^{d}$. We say that $f$ attains a maximum value $M$ at $\\mathbf{z}^{*}$ if $f\\left(\\mathbf{z}^{*}\\right)=M$ and $M \\geq f(\\mathbf{x})$ for all $\\mathbf{x} \\in D$. Similarly, we say $f$ attains a minimum value $m$ at $\\mathbf{z}_{*}$ if $f\\left(\\mathbf{z}_{*}\\right)=m$ and $m \\leq f(\\mathbf{x})$ for all $\\mathbf{x} \\in D$.\n"
      ]
    },
    {
      "cell_type": "markdown",
      "metadata": {
        "id": "3gp08vj2sZ_5"
      },
      "source": [
        "#### Theorem 3.2.5 (Extreme Value) \n",
        "Let $f: D \\rightarrow \\mathbb{R}$ be a real-valued, continuous function on a nonempty, closed, bounded set $D \\subseteq \\mathbb{R}^{d}$. Then $f$ attains a maximum and a minimum on $D$."
      ]
    },
    {
      "cell_type": "markdown",
      "metadata": {
        "id": "pD2Fcq7Sg3xn"
      },
      "source": [
        "##3.2.2 Derivatives"
      ]
    },
    {
      "cell_type": "markdown",
      "metadata": {
        "id": "DyIWKLQ-iMkx"
      },
      "source": [
        "###3.2.2.1 Single-Variable Case"
      ]
    },
    {
      "cell_type": "markdown",
      "metadata": {
        "id": "Fcuy04mdiRWb"
      },
      "source": [
        "The derivative of a function of a real variable measures the sensitivity to change of the function value (output value) with respect to another variable. We begin by reviewing the sigle-variable case."
      ]
    },
    {
      "cell_type": "markdown",
      "metadata": {
        "id": "zqTYzJKrixX5"
      },
      "source": [
        "#### Definition 3.2.6 (Derivative)"
      ]
    },
    {
      "cell_type": "markdown",
      "metadata": {
        "id": "vbQ2ltHwig6F"
      },
      "source": [
        "Let $f: D \\rightarrow \\mathbb{R}$ where $D \\subseteq \\mathbb{R}$ and let $x_{0} \\in D$ be an interior point of $D .$ The derivative of $f$ at $x_{0}$ is\n",
        "$$\n",
        "f^{\\prime}\\left(x_{0}\\right)=\\frac{\\mathrm{d} f\\left(x_{0}\\right)}{\\mathrm{d} x}=\\lim _{h \\rightarrow 0} \\frac{f\\left(x_{0}+h\\right)-f\\left(x_{0}\\right)}{h}\n",
        "$$\n",
        "provided the limit exists.\n",
        "The definition of derivative of a function can be illustrated in Figure $3.5$. The following proposition indicates that the differentiation is a linear operator."
      ]
    },
    {
      "cell_type": "markdown",
      "metadata": {
        "id": "z5_hsithjAU4"
      },
      "source": [
        "![d1.PNG](data:image/png;base64,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)"
      ]
    },
    {
      "cell_type": "markdown",
      "metadata": {
        "id": "Q-XL1ersjIXn"
      },
      "source": [
        "#### Proposition 3.2.7 \n",
        "Let $f$ and $g$ have derivatives at $x$ and let $\\alpha$ and $\\beta$ be constants. The following results hold\n",
        "$$\n",
        "[\\alpha f(x)+\\beta g(x)]^{\\prime}=\\alpha f^{\\prime}(x)+\\beta g^{\\prime}(x)\n",
        "$$\n"
      ]
    },
    {
      "cell_type": "markdown",
      "metadata": {
        "id": "zsFvDQY6jLTj"
      },
      "source": [
        "The following lemma encapsulates a key insight about the derivative of $f$ at $x_{0}$ : it tells us where to find extreme values.\n",
        "#### Lemma 3.2.8\n",
        "Let $f: D \\rightarrow \\mathbb{R}$ with $D \\subseteq \\mathbb{R}$ and let $x_{0} \\in D$ be an interior point of $D$ where $f^{\\prime}\\left(x_{0}\\right)$ exists. If $f^{\\prime}\\left(x_{0}\\right)>0$, then there is an open ball $B_{\\delta}\\left(x_{0}\\right) \\subseteq D$ around $x_{0}$ such that for each $x$ in $B_{\\delta}\\left(x_{0}\\right)$ :\n",
        "\n",
        "$$ \\text{(a) }f(x)> f\\left(x_{0}\\right) \\text{if } x>x_{0}\\text{,}$$\n",
        "\n",
        "$$ \\text{(b) }f(x)< f\\left(x_{0}\\right) \\text{if } x<x_{0}$$\n",
        "\n",
        "\n",
        "If instead $f^{\\prime}\\left(x_{0}\\right)< 0$, the opposite holds."
      ]
    },
    {
      "cell_type": "markdown",
      "metadata": {
        "id": "Xpm6-yFDwsgj"
      },
      "source": [
        "### Solving Derivatives in Python Using `Sympy`\n"
      ]
    },
    {
      "cell_type": "markdown",
      "metadata": {
        "id": "104JaOlsn8m1"
      },
      "source": [
        "**Example 1:** Suppose we have $f(x)=x^2$, find $f'(x)$:"
      ]
    },
    {
      "cell_type": "code",
      "metadata": {
        "colab": {
          "base_uri": "https://localhost:8080/",
          "height": 38
        },
        "id": "u4bzbrztn7zb",
        "outputId": "e0061fef-26e4-475a-8189-ec19fe2424cb"
      },
      "source": [
        "from sympy import *\n",
        "x = Symbol('x')\n",
        "#Define function\n",
        "f = x**2\n",
        "#Calculating Derivative\n",
        "f.diff(x)"
      ],
      "execution_count": 33,
      "outputs": [
        {
          "output_type": "execute_result",
          "data": {
            "text/latex": "$\\displaystyle 2 x$",
            "text/plain": [
              "2*x"
            ]
          },
          "metadata": {},
          "execution_count": 33
        }
      ]
    },
    {
      "cell_type": "markdown",
      "metadata": {
        "id": "V2V10H5oxZe0"
      },
      "source": [
        "**Example 2:** Suppose we have $f(x)=x^2$, calculate the derivative of $f(x)$ at $x = 2$.\n",
        "\n",
        "Luckily,  `sympy` has lambdify function in which we pass the symbol and the function."
      ]
    },
    {
      "cell_type": "code",
      "metadata": {
        "colab": {
          "base_uri": "https://localhost:8080/"
        },
        "id": "x6Wk_1cDxZl4",
        "outputId": "c9a29c42-a465-4ee8-9422-3a22370c39ee"
      },
      "source": [
        "from sympy import *\n",
        "x = Symbol('x')\n",
        "#Define function\n",
        "f = x**2\n",
        "f1 = lambdify(x, f)\n",
        "#passing x=2 to the function\n",
        "f1(2)"
      ],
      "execution_count": 34,
      "outputs": [
        {
          "output_type": "execute_result",
          "data": {
            "text/plain": [
              "4"
            ]
          },
          "metadata": {},
          "execution_count": 34
        }
      ]
    },
    {
      "cell_type": "markdown",
      "metadata": {
        "id": "bha0IL_yxkrx"
      },
      "source": [
        "**Example 3 (Power Rule):** Suppose we have $f(x)=x^5$, find $f'(x)$:"
      ]
    },
    {
      "cell_type": "code",
      "metadata": {
        "colab": {
          "base_uri": "https://localhost:8080/",
          "height": 38
        },
        "id": "q0QfkaIyyhix",
        "outputId": "f4d7dba6-9c17-495a-c728-9768470ba91a"
      },
      "source": [
        "import sympy as sym\n",
        "#Power rule\n",
        "x = sym.Symbol('x')\n",
        "f = x**5\n",
        "f.diff(x)"
      ],
      "execution_count": 35,
      "outputs": [
        {
          "output_type": "execute_result",
          "data": {
            "text/latex": "$\\displaystyle 5 x^{4}$",
            "text/plain": [
              "5*x**4"
            ]
          },
          "metadata": {},
          "execution_count": 35
        }
      ]
    },
    {
      "cell_type": "markdown",
      "metadata": {
        "id": "cEwxdFqdxk2T"
      },
      "source": [
        "**Example 4 (Product Rule):** Suppose we have $f(x)=e^{x}*\\cos(x)$, find $f'(x)$:"
      ]
    },
    {
      "cell_type": "code",
      "metadata": {
        "colab": {
          "base_uri": "https://localhost:8080/",
          "height": 38
        },
        "id": "HASjctOey9mO",
        "outputId": "aca114a0-9aaa-4726-85ce-683b6a2ae32e"
      },
      "source": [
        "import sympy as sym\n",
        "#Product Rule\n",
        "x = sym.Symbol('x')\n",
        "f = sym.exp(x)*sym.cos(x)\n",
        "derivative_f = f.diff(x)\n",
        "derivative_f"
      ],
      "execution_count": 36,
      "outputs": [
        {
          "output_type": "execute_result",
          "data": {
            "text/latex": "$\\displaystyle - e^{x} \\sin{\\left(x \\right)} + e^{x} \\cos{\\left(x \\right)}$",
            "text/plain": [
              "-exp(x)*sin(x) + exp(x)*cos(x)"
            ]
          },
          "metadata": {},
          "execution_count": 36
        }
      ]
    },
    {
      "cell_type": "markdown",
      "metadata": {
        "id": "38pfr6G8ij0_"
      },
      "source": [
        "#### Theorem 3.2.9 (Rolle) \n",
        "Let $f:[a, b] \\rightarrow \\mathbb{R}$ be a continuous function and assume that its derivative exists on $(a, b)$. If $f(a)=f(b)$, then there is $a<c<b$ such that $f^{\\prime}(c)=0$."
      ]
    },
    {
      "cell_type": "markdown",
      "metadata": {
        "id": "bD3E46FXkweE"
      },
      "source": [
        "#### Theorem 3.2.10 (Mean Value) \n",
        "Let $f:[a, b] \\rightarrow \\mathbb{R}$ be a continuous function and assume that its derivative exists on $(a, b)$. Then there is $a< c< b$ such that"
      ]
    },
    {
      "cell_type": "markdown",
      "metadata": {
        "id": "Ricq0ag2kzy9"
      },
      "source": [
        "![image.png](data:image/png;base64,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)\n",
        "\n"
      ]
    },
    {
      "cell_type": "markdown",
      "metadata": {
        "id": "3EvnnBdMk_ee"
      },
      "source": [
        "$$\n",
        "f(b)=f(a)+(b-a) f^{\\prime}(c)\n",
        "$$\n",
        "\n",
        "or put differently\n",
        "\n",
        "$$\n",
        "\\frac{f(b)-f(a)}{b-a}=f^{\\prime}(c)\n",
        "$$"
      ]
    },
    {
      "cell_type": "markdown",
      "metadata": {
        "id": "jh3muko0k7st"
      },
      "source": [
        "![image.png](data:image/png;base64,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)"
      ]
    },
    {
      "cell_type": "markdown",
      "metadata": {
        "id": "zA1dGnzJlRXJ"
      },
      "source": [
        "### 3.2.2.2 General Case"
      ]
    },
    {
      "cell_type": "markdown",
      "metadata": {
        "id": "24mjkvBWlbZU"
      },
      "source": [
        "Many functions in data science involves several independent variables. For functions of several variables, we have the following generalization. As before, we let $\\mathbf{e}_{i} \\in \\mathbb{R}^{d}$ be the $i$-th standard basis vector."
      ]
    },
    {
      "cell_type": "markdown",
      "metadata": {
        "id": "yH0jKgw2lb8U"
      },
      "source": [
        "#### Definition 3.2.11 (Partial Derivative) \n",
        "Let $f: D \\rightarrow \\mathbb{R}$ where $D \\subseteq \\mathbb{R}^{d}$ and let $\\mathbf{x}_{0} \\in D$ be an interior point of $D .$ The partial derivative of $f$ at $\\mathbf{x}_{0}$ with respect to $x_{i}$ is\n",
        "$$\n",
        "\\frac{\\partial f\\left(\\mathbf{x}_{0}\\right)}{\\partial x_{i}}=\\lim _{h \\rightarrow 0} \\frac{f\\left(\\mathbf{x}_{0}+h \\mathbf{e}_{i}\\right)-f\\left(\\mathbf{x}_{0}\\right)}{h}\n",
        "$$\n",
        "provided the limit exists. If $\\frac{\\partial f\\left(\\mathbf{x}_{0}\\right)}{\\partial x_{i}}$ exists and is continuous in an open ball around $\\mathbf{x}_{0}$ for all $i$, then we say that $f$ continuously differentiable at $\\mathbf{x}_{0}$."
      ]
    },
    {
      "cell_type": "markdown",
      "metadata": {
        "id": "zsUrvt-0q9aL"
      },
      "source": [
        "##### **Example:** Partial Derivative in Python using `sympy`\n",
        "$F(x)=4xy+x\\sin(z)+x^3 + z^8 y $"
      ]
    },
    {
      "cell_type": "code",
      "metadata": {
        "colab": {
          "base_uri": "https://localhost:8080/",
          "height": 38
        },
        "id": "5Jp0x3amq9yM",
        "outputId": "ac4d679d-01db-4d05-e350-6e4aefcedb1f"
      },
      "source": [
        "from sympy import symbols, diff\n",
        "x, y, z = symbols('x y z', real=True)\n",
        "f = 4*x*y + x*sin(z) + x**3 + z**8*y\n",
        "diff(f, x)"
      ],
      "execution_count": 28,
      "outputs": [
        {
          "output_type": "execute_result",
          "data": {
            "text/latex": "$\\displaystyle 3 x^{2} + 4 y + \\sin{\\left(z \\right)}$",
            "text/plain": [
              "3*x**2 + 4*y + sin(z)"
            ]
          },
          "metadata": {},
          "execution_count": 28
        }
      ]
    },
    {
      "cell_type": "markdown",
      "metadata": {
        "id": "Y0AzvhMzlZ5-"
      },
      "source": [
        "#### Definition 3.2.12 (Jacobian) \n",
        "Let $\\mathbf{f}=\\left(f_{1}, \\ldots, f_{m}\\right): D \\rightarrow \\mathbb{R}^{m}$ where $D \\subseteq \\mathbb{R}^{d}$ and let $\\mathbf{x}_{0} \\in D$ be an interior point of $D$ where $\\frac{\\partial f_{j}\\left(\\mathbf{x}_{0}\\right)}{\\partial x_{i}}$ exists for all $i, j .$ The Jacobian of $\\mathbf{f}$ at $\\mathbf{x}_{0}$ is the $d \\times m$ matrix\n",
        "$$\n",
        "\\mathbf{J}_{\\mathbf{f}}\\left(\\mathbf{x}_{0}\\right)=\\left(\\begin{array}{ccc}\n",
        "\\frac{\\partial f_{1}\\left(\\mathbf{x}_{0}\\right)}{\\partial x_{1}} & \\ldots & \\frac{\\partial f_{1}\\left(\\mathbf{x}_{0}\\right)}{\\partial x_{d}} \\\\\n",
        "\\vdots & \\ddots & \\vdots \\\\\n",
        "\\frac{\\partial f_{m}\\left(\\mathbf{x}_{0}\\right)}{\\partial x_{1}} & \\ldots & \\frac{\\partial f_{m}\\left(\\mathbf{x}_{0}\\right)}{\\partial x_{d}}\n",
        "\\end{array}\\right)\n",
        "$$\n",
        "For a real-valued function $f: D \\rightarrow \\mathbb{R}$, the Jacobian reduces to the row vector\n",
        "$$\n",
        "\\mathbf{J}_{f}\\left(\\mathbf{x}_{0}\\right)=\\nabla f\\left(\\mathbf{x}_{0}\\right)^{T}\n",
        "$$\n",
        "where the vector\n",
        "$$\n",
        "\\nabla f\\left(\\mathbf{x}_{0}\\right)=\\left(\\frac{\\partial f\\left(\\mathbf{x}_{0}\\right)}{\\partial x_{1}}, \\ldots, \\frac{\\partial f\\left(\\mathbf{x}_{0}\\right)}{\\partial x_{d}}\\right)^{T}\n",
        "$$\n",
        "is the gradient of $f$ at $\\mathbf{x}_{0}$."
      ]
    },
    {
      "cell_type": "markdown",
      "metadata": {
        "id": "3DmN5duGom5H"
      },
      "source": [
        "##### **Example:** Computing the Jacobian matrix in Python using `sympy`\n",
        "\n",
        "$ X = \\begin{bmatrix}\n",
        "\\rho*\\cos(\\phi)\\\\\n",
        "\\rho*\\sin(\\phi) \\\\\n",
        "\\rho^2\n",
        "\\end{bmatrix} $,\n",
        "$Y= \\begin{bmatrix}\n",
        "\\rho & \\phi \n",
        "\\end{bmatrix} $"
      ]
    },
    {
      "cell_type": "code",
      "metadata": {
        "colab": {
          "base_uri": "https://localhost:8080/",
          "height": 78
        },
        "id": "enmOUlfRolWl",
        "outputId": "d6033aeb-5c26-4cba-b6ba-d1fc601e3e86"
      },
      "source": [
        "from sympy import sin, cos, Matrix\n",
        "from sympy.abc import rho, phi\n",
        "\n",
        "X = Matrix([rho*cos(phi), rho*sin(phi), rho**2])\n",
        "Y = Matrix([rho, phi])\n",
        "\n",
        "X.jacobian(Y)"
      ],
      "execution_count": 25,
      "outputs": [
        {
          "output_type": "execute_result",
          "data": {
            "text/latex": "$\\displaystyle \\left[\\begin{matrix}\\cos{\\left(\\phi \\right)} & - \\rho \\sin{\\left(\\phi \\right)}\\\\\\sin{\\left(\\phi \\right)} & \\rho \\cos{\\left(\\phi \\right)}\\\\2 \\rho & 0\\end{matrix}\\right]$",
            "text/plain": [
              "Matrix([\n",
              "[cos(phi), -rho*sin(phi)],\n",
              "[sin(phi),  rho*cos(phi)],\n",
              "[   2*rho,             0]])"
            ]
          },
          "metadata": {},
          "execution_count": 25
        }
      ]
    },
    {
      "cell_type": "markdown",
      "metadata": {
        "id": "-z2_wYCnlb-3"
      },
      "source": [
        "#### Theorem 3.2.15 (Chain Rule) \n",
        "Let $\\mathbf{f}: D_{1} \\rightarrow \\mathbb{R}^{m}$, where $D_{1} \\subseteq \\mathbb{R}^{d}$, and let $\\mathbf{g}$ : $D_{2} \\rightarrow \\mathbb{R}^{p}$, where $D_{2} \\subseteq \\mathbb{R}^{m}$. Assume that $\\mathbf{f}$ is continuously differentiable at $\\mathbf{x}_{0}$, an interior point of $D_{1}$, and that $\\mathbf{g}$ is continuously differentiable at $\\mathbf{f}\\left(\\mathbf{x}_{0}\\right)$, an interior point of $D_{2}$. Then\n",
        "$$\n",
        "\\mathbf{J}_{\\mathbf{g o f}}\\left(\\mathbf{x}_{0}\\right)=\\mathbf{J}_{\\mathbf{g}}\\left(\\mathbf{f}\\left(\\mathbf{x}_{0}\\right)\\right) \\mathbf{J}_{\\mathbf{f}}\\left(\\mathbf{x}_{0}\\right)\n",
        "$$\n",
        "as a product of matrices."
      ]
    },
    {
      "cell_type": "markdown",
      "metadata": {
        "id": "RrGTZb2hqDed"
      },
      "source": [
        "##### **Example:** Chain Rule Derivatives in Python using `sympy`\n",
        "$F(x)={(x^2 - 3x + 5)}^3$\n",
        "\n",
        "Python implementation is simple and does not need to specify Chain Rule:"
      ]
    },
    {
      "cell_type": "code",
      "metadata": {
        "colab": {
          "base_uri": "https://localhost:8080/",
          "height": 39
        },
        "id": "-ePqvXwMqQlL",
        "outputId": "0eb462e2-23a1-4acf-a1ed-f2e6ab61795f"
      },
      "source": [
        "import sympy as sym\n",
        "sym.diff((x*2 - 3*x  + 5) ** 3)"
      ],
      "execution_count": 27,
      "outputs": [
        {
          "output_type": "execute_result",
          "data": {
            "text/latex": "$\\displaystyle - 3 \\left(5 - x\\right)^{2}$",
            "text/plain": [
              "-3*(5 - x)**2"
            ]
          },
          "metadata": {},
          "execution_count": 27
        }
      ]
    },
    {
      "cell_type": "markdown",
      "metadata": {
        "id": "lAuj4OyelcBN"
      },
      "source": [
        "### 3.2.2.3 Further Derivatives"
      ]
    },
    {
      "cell_type": "markdown",
      "metadata": {
        "id": "gMrmsfYSlcDu"
      },
      "source": [
        "The directional derivative of a multivariate differentiable (scalar) function along a given vector intuitively measure the rate of change of a function along the direction.\n"
      ]
    },
    {
      "cell_type": "markdown",
      "metadata": {
        "id": "-JMZI1yUmodF"
      },
      "source": [
        "#### Definition 3.2.16 (Directional Derivative) \n",
        "Let $f: D \\rightarrow \\mathbb{R}$ where $D \\subseteq \\mathbb{R}^{d}$, let $\\mathbf{x}_{0} \\in D$ be an interior point of $D$ and let $\\mathbf{v} \\in \\mathbb{R}^{d}$ be a unit vector. The directional derivative of $f$ at $\\mathbf{x}_{0}$ in the direction $\\mathbf{v}$ is\n",
        "$$\n",
        "\\frac{\\partial f\\left(\\mathbf{x}_{0}\\right)}{\\partial \\mathbf{v}}=\\lim _{h \\rightarrow 0} \\frac{f\\left(\\mathbf{x}_{0}+h \\mathbf{v}\\right)-f\\left(\\mathbf{x}_{0}\\right)}{h}\n",
        "$$\n",
        "provided the limit exists.\n",
        "Note that taking $\\mathbf{v}=\\mathbf{e}_{i}$ recovers the $i$-th partial derivative\n",
        "$$\n",
        "\\frac{\\partial f\\left(\\mathbf{x}_{0}\\right)}{\\partial \\mathbf{e}_{i}}=\\lim _{h \\rightarrow 0} \\frac{f\\left(\\mathbf{x}_{0}+h \\mathbf{e}_{i}\\right)-f\\left(\\mathbf{x}_{0}\\right)}{h}=\\frac{\\partial f\\left(\\mathbf{x}_{0}\\right)}{\\partial x_{i}}\n",
        "$$\n",
        "Conversely, a general directional derivative can be expressed in terms of the partial derivatives."
      ]
    },
    {
      "cell_type": "markdown",
      "metadata": {
        "id": "WJrG_0s7mh0I"
      },
      "source": [
        "#### Theorem 3.2.17 (Directional Derivative from Gradient)\n",
        "Let $f: D \\rightarrow \\mathbb{R}$ where $D \\subseteq \\mathbb{R}^{d}$, let $\\mathbf{x}_{0} \\in D$ be an interior point of $D$ and let $\\mathbf{v} \\in \\mathbb{R}^{d}$ be a unit vector. Assume that $f$ is continuously differentiable at $\\mathbf{x}_{0}$. Then the directional derivative of $f$ at $\\mathbf{x}_{0}$ in the direction $\\mathbf{v}$ is given by\n",
        "$$\n",
        "\\frac{\\partial f\\left(\\mathbf{x}_{0}\\right)}{\\partial \\mathbf{v}}=\\mathbf{J}_{f}\\left(\\mathbf{x}_{0}\\right) \\mathbf{v}=\\nabla f\\left(\\mathbf{x}_{0}\\right)^{T} \\mathbf{v}\n",
        "$$"
      ]
    },
    {
      "cell_type": "markdown",
      "metadata": {
        "id": "lBfRnA5FtpXq"
      },
      "source": [
        "\n",
        "#### **Example:** Gradient - Directional Derivative in Python\n",
        "Gradient is a vector that indicates the `MAXIMUM GROWTH` direction of a scalar function `f (x, y, z)`\n",
        "\n",
        "$ \\nabla f = grad f = \\frac{\\partial f}{\\partial x} \\overrightarrow{i} + \\frac{\\partial f}{\\partial y} \\overrightarrow{j} + \\frac{\\partial f}{\\partial z} \\overrightarrow{k} $"
      ]
    },
    {
      "cell_type": "code",
      "metadata": {
        "colab": {
          "base_uri": "https://localhost:8080/"
        },
        "id": "CJ3CU2oZtqMg",
        "outputId": "a730fb92-5554-40f8-9b32-80fa066133f8"
      },
      "source": [
        "from sympy import *\n",
        "F,x,y,z =symbols(\"F x y z\")\n",
        "init_printing()\n",
        "F=x**2-y-z**2\n",
        "print(f'Fx={diff(F,x)}\\nFy={diff(F,y)}\\nFz={diff(F,z)}')"
      ],
      "execution_count": 49,
      "outputs": [
        {
          "output_type": "stream",
          "name": "stdout",
          "text": [
            "Fx=2*x\n",
            "Fy=-1\n",
            "Fz=-2*z\n"
          ]
        }
      ]
    },
    {
      "cell_type": "markdown",
      "metadata": {
        "id": "AldnjuE2mh7R"
      },
      "source": [
        "#### Definition 3.2.18 (Second Partial Derivatives and Hessian) \n",
        "Let $f: D \\rightarrow \\mathbb{R}$ where $D \\subseteq \\mathbb{R}^{d}$ and let $\\mathbf{x}_{0} \\in D$ be an interior point of $D$. Assume that $f$ is continuously differentiable in an open ball around $\\mathbf{x}_{0}$. Then $\\partial f(\\mathbf{x}) / \\partial x_{i}$ is itself a function of $\\mathbf{x}$ and its partial derivative with respect to $x_{j}$, if it exists, is denoted by\n",
        "$$\n",
        "\\frac{\\partial^{2} f\\left(\\mathbf{x}_{0}\\right)}{\\partial x_{j} \\partial x_{i}}=\\lim _{h \\rightarrow 0} \\frac{\\partial f\\left(\\mathbf{x}_{0}+h \\mathbf{e}_{j}\\right) / \\partial x_{i}-\\partial f\\left(\\mathbf{x}_{0}\\right) / \\partial x_{i}}{h}\n",
        "$$\n",
        "To simplify the notation, we write this as $\\partial^{2} f\\left(\\mathbf{x}_{0}\\right) / \\partial x_{i}^{2}$ when $j=i$. If $\\partial^{2} f(\\mathbf{x}) / \\partial x_{j} \\partial x_{i}$ and $\\partial^{2} f(\\mathbf{x}) / \\partial x_{i}^{2}$ exist and are continuous in an open ball around $\\mathbf{x}_{0}$ for all $i, j$, we say that $f$ is twice continuously differentiable at $\\mathbf{x}_{0}$\n",
        "\n",
        "The Jacobian of the gradient $\\nabla f$ is called the Hessian and is denoted by\n",
        "$$\n",
        "\\mathbf{H}_{f}\\left(\\mathbf{x}_{0}\\right)=\\left(\\begin{array}{ccc}\n",
        "\\frac{\\partial^{2} f\\left(\\mathbf{x}_{0}\\right)}{\\partial x_{1}^{2}} & \\cdots & \\frac{\\partial^{2} f\\left(\\mathbf{x}_{0}\\right)}{\\partial x_{d} \\partial x_{1}} \\\\\n",
        "\\vdots & \\ddots & \\vdots \\\\\n",
        "\\frac{\\partial^{2} f\\left(\\mathbf{x}_{0}\\right)}{\\partial x_{1} \\partial x_{d}} & \\cdots & \\frac{\\partial^{2} f\\left(\\mathbf{x}_{0}\\right)}{\\partial x_{d}^{2}}\n",
        "\\end{array}\\right)\n",
        "$$\n",
        "When $f$ is twice continuously differentiable at $\\mathbf{x}_{0}$, its Hessian is a symmetric matrix."
      ]
    },
    {
      "cell_type": "markdown",
      "metadata": {
        "id": "GRBCGWQ_nEbp"
      },
      "source": [
        "#### Theorem 3.2.19 (Symmetry of the Hessian) \n",
        "Let $f: D \\rightarrow \\mathbb{R}$ where $D \\subseteq \\mathbb{R}^{d}$ and let $\\mathbf{x}_{0} \\in D$ be an interior point of $D$. Assume that $f$ is twice continuously differentiable at $\\mathbf{x}_{0}$. Then for all $i \\neq j$,\n",
        "$$\n",
        "\\frac{\\partial^{2} f\\left(\\mathbf{x}_{0}\\right)}{\\partial x_{j} \\partial x_{i}}=\\frac{\\partial^{2} f\\left(\\mathbf{x}_{0}\\right)}{\\partial x_{i} \\partial x_{j}}\n",
        "$$"
      ]
    },
    {
      "cell_type": "markdown",
      "metadata": {
        "id": "1IMBwrsdnLz-"
      },
      "source": [
        "#### Theorem 3.2.21 (Taylor) \n",
        "Let $f: D \\rightarrow \\mathbb{R}$ where $D \\subseteq \\mathbb{R}$. Suppose $f$ has a $m$ times continuous derivative on $[a, b]$. Then\n",
        "$$\n",
        "f(b)=f(a)+(b-a) f^{\\prime}(a)+\\frac{1}{2}(b-a)^{2} f^{\\prime \\prime}(a)+\\ldots+\\frac{(b-a)^{m-1}}{(m-1) !} f^{(m-1)}(a)+R_{m}\n",
        "$$\n",
        "where $R_{m}=\\frac{(b-a)^{m}}{(m) !} f^{(m)}(a+\\theta(b-a))$ for some $0<\\theta< 1 .$ In particular, for $m=2$, we have\n",
        "$$\n",
        "f(b)=f(a)+(b-a) f^{\\prime}(a)+\\frac{1}{2}(b-a)^{2} f^{\\prime \\prime}(\\xi)\n",
        "$$\n",
        "for some $a<\\xi<b$."
      ]
    },
    {
      "cell_type": "markdown",
      "metadata": {
        "id": "WiS__aGQnVmp"
      },
      "source": [
        "#### Theorem 3.2.22 (Multivariate Mean Value) \n",
        "Let $f: D \\rightarrow \\mathbb{R}$ where $D \\subseteq \\mathbb{R}^{d}$. Let $\\mathbf{x}_{0} \\in D$ and $\\delta>0$ be such that $B_{\\delta}\\left(\\mathbf{x}_{0}\\right) \\subseteq D .$ If $f$ is continuously differentiable on $B_{\\delta}\\left(\\mathbf{x}_{0}\\right)$, then for any $\\mathbf{x} \\in B_{\\delta}\\left(\\mathbf{x}_{0}\\right)$\n",
        "$$\n",
        "f(\\mathbf{x})=f\\left(\\mathbf{x}_{0}\\right)+\\nabla f\\left(\\mathbf{x}_{0}+\\xi \\mathbf{p}\\right)^{T} \\mathbf{p}\n",
        "$$\n",
        "for some $\\xi \\in(0,1)$, where $\\mathbf{p}=\\mathbf{x}-\\mathbf{x}_{0}$."
      ]
    },
    {
      "cell_type": "markdown",
      "metadata": {
        "id": "IQn8Ge9QnbZZ"
      },
      "source": [
        "#### Theorem 3.2.23 (Multivariate Taylor) \n",
        "Let $f: D \\rightarrow \\mathbb{R}$ where $D \\subseteq \\mathbb{R}^{d} .$ Let $\\mathbf{x}_{0} \\in D$ and $\\delta>0$ be such that $B_{\\delta}\\left(\\mathbf{x}_{0}\\right) \\subseteq D .$ If $f$ is three times continuously differentiable on $B_{\\delta}\\left(\\mathbf{x}_{0}\\right)$, then for any $\\mathbf{x} \\in B_{\\delta}\\left(\\mathbf{x}_{0}\\right)$\n",
        "$$\n",
        "f(\\mathbf{x})=f\\left(\\mathbf{x}_{0}\\right)+\\nabla f\\left(\\mathbf{x}_{0}\\right)^{T} \\mathbf{p}+\\frac{1}{2} \\mathbf{p}^{T} \\mathbf{H}_{f}\\left(\\mathbf{x}_{0}\\right) \\mathbf{p}+O\\left(\\mid \\mathbf{p} \\|^{3}\\right)\n",
        "$$\n",
        "where $\\mathbf{p}=\\mathbf{x}-\\mathbf{x}_{0}$\n",
        "If $f$ is twice continuously differentiable on $B_{\\delta}\\left(\\mathbf{x}_{0}\\right)$, then for any $\\mathbf{x} \\in B_{\\delta}\\left(\\mathbf{x}_{0}\\right)$\n",
        "$$\n",
        "f(\\mathbf{x})=f\\left(\\mathbf{x}_{0}\\right)+\\nabla f\\left(\\mathbf{x}_{0}\\right)^{T} \\mathbf{p}+\\frac{1}{2} \\mathbf{p}^{T} \\mathbf{H}_{f}\\left(\\mathbf{x}_{0}+\\xi \\mathbf{p}\\right) \\mathbf{p}\n",
        "$$\n",
        "for some $\\xi \\in(0,1)$, where $\\mathbf{p}=\\mathbf{x}-\\mathbf{x}_{0}$"
      ]
    },
    {
      "cell_type": "markdown",
      "metadata": {
        "id": "dI9vYfM65ZBz"
      },
      "source": [
        "### Multivariate Taylor Series Expansion in Python with `sympy`"
      ]
    },
    {
      "cell_type": "code",
      "metadata": {
        "id": "oMgMhW3Fzr0X"
      },
      "source": [
        "def Taylor_polynomial_sympy(function_expression, variable_list, evaluation_point, degree):\n",
        "    \"\"\"\n",
        "    Mathematical formulation reference:\n",
        "    https://math.libretexts.org/Bookshelves/Calculus/Supplemental_Modules_(Calculus)/Multivariable_Calculus/3%3A_Topics_in_Partial_Derivatives/Taylor__Polynomials_of_Functions_of_Two_Variables\n",
        "    :param function_expression: Sympy expression of the function\n",
        "    :param variable_list: list. All variables to be approximated (to be \"Taylorized\")\n",
        "    :param evaluation_point: list. Coordinates, where the function will be expressed\n",
        "    :param degree: int. Total degree of the Taylor polynomial\n",
        "    :return: Returns a Sympy expression of the Taylor series up to a given degree, of a given multivariate expression, approximated as a multivariate polynomial evaluated at the evaluation_point\n",
        "    \"\"\"\n",
        "    from sympy import factorial, Matrix, prod\n",
        "    import itertools\n",
        "\n",
        "    n_var = len(variable_list)\n",
        "    point_coordinates = [(i, j) for i, j in (zip(variable_list, evaluation_point))]  # list of tuples with variables and their evaluation_point coordinates, to later perform substitution\n",
        "\n",
        "    deriv_orders = list(itertools.product(range(degree + 1), repeat=n_var))  # list with exponentials of the partial derivatives\n",
        "    deriv_orders = [deriv_orders[i] for i in range(len(deriv_orders)) if sum(deriv_orders[i]) <= degree]  # Discarding some higher-order terms\n",
        "    n_terms = len(deriv_orders)\n",
        "    deriv_orders_as_input = [list(sum(list(zip(variable_list, deriv_orders[i])), ())) for i in range(n_terms)]  # Individual degree of each partial derivative, of each term\n",
        "\n",
        "    polynomial = 0\n",
        "    for i in range(n_terms):\n",
        "        partial_derivatives_at_point = function_expression.diff(*deriv_orders_as_input[i]).subs(point_coordinates)  # e.g. df/(dx*dy**2)\n",
        "        denominator = prod([factorial(j) for j in deriv_orders[i]])  # e.g. (1! * 2!)\n",
        "        distances_powered = prod([(Matrix(variable_list) - Matrix(evaluation_point))[j] ** deriv_orders[i][j] for j in range(n_var)])  # e.g. (x-x0)*(y-y0)**2\n",
        "        polynomial += partial_derivatives_at_point / denominator * distances_powered\n",
        "    return polynomial"
      ],
      "execution_count": 45,
      "outputs": []
    },
    {
      "cell_type": "markdown",
      "metadata": {
        "id": "oLvDJavT5CUw"
      },
      "source": [
        "Find the linear approximation $L(x,y)$ and the quadratic approximation $Q(x,y)$ of each function at the indicated point. These are the  1st- and 2nd-degree Taylor Polynomials of these functions at these points."
      ]
    },
    {
      "cell_type": "code",
      "metadata": {
        "id": "GxtlQVJX6JKs"
      },
      "source": [
        "# Solving the exercises in section 13.7 of https://math.libretexts.org/Bookshelves/Calculus/Supplemental_Modules_(Calculus)/Multivariable_Calculus/3%3A_Topics_in_Partial_Derivatives/Taylor__Polynomials_of_Functions_of_Two_Variables\n",
        "from sympy import symbols, sqrt, atan, ln"
      ],
      "execution_count": null,
      "outputs": []
    },
    {
      "cell_type": "markdown",
      "metadata": {
        "id": "2AJJ3u3a451k"
      },
      "source": [
        "**Example 1:** $f(x,y)=x\\sqrt{y},\\quad P(1,4)$"
      ]
    },
    {
      "cell_type": "code",
      "metadata": {
        "colab": {
          "base_uri": "https://localhost:8080/"
        },
        "id": "ORwK27-j47t4",
        "outputId": "a9295b57-0b94-4dea-e313-5aff3b014fbb"
      },
      "source": [
        "# Example 1\n",
        "x = symbols('x')\n",
        "y = symbols('y')\n",
        "function_expression = x*sqrt(y)\n",
        "variable_list = [x,y]\n",
        "evaluation_point = [1,4]\n",
        "degree=1\n",
        "print(Taylor_polynomial_sympy(function_expression, variable_list, evaluation_point, degree))\n",
        "degree=2\n",
        "print(Taylor_polynomial_sympy(function_expression, variable_list, evaluation_point, degree))"
      ],
      "execution_count": 53,
      "outputs": [
        {
          "output_type": "stream",
          "name": "stdout",
          "text": [
            "2*x + y/4 - 1\n",
            "2*x + y/4 + (x - 1)*(y - 4)/4 - (y - 4)**2/64 - 1\n"
          ]
        }
      ]
    },
    {
      "cell_type": "code",
      "metadata": {
        "colab": {
          "base_uri": "https://localhost:8080/",
          "height": 282
        },
        "id": "oihhLRQM7Ewo",
        "outputId": "ed2308c4-2d43-410e-8b63-7f1b6a7974d6"
      },
      "source": [
        "from mpl_toolkits import mplot3d\n",
        "%matplotlib inline\n",
        "import numpy as np\n",
        "import matplotlib.pyplot as plt\n",
        "\n",
        "def f(x, y):\n",
        "    return x*np.sqrt(y)\n",
        "\n",
        "x = np.linspace(-12, 12, 60)\n",
        "y = np.linspace(-12, 12, 30)\n",
        "\n",
        "X, Y = np.meshgrid(x, y)\n",
        "Z = f(X, Y)\n",
        "fig = plt.figure()\n",
        "ax = plt.axes(projection='3d')\n",
        "ax.contour3D(X, Y, Z, 50, cmap='binary')\n",
        "ax.set_xlabel('x')\n",
        "ax.set_ylabel('y')\n",
        "ax.set_zlabel('z');\n"
      ],
      "execution_count": 65,
      "outputs": [
        {
          "output_type": "stream",
          "name": "stderr",
          "text": [
            "/usr/local/lib/python3.7/dist-packages/ipykernel_launcher.py:7: RuntimeWarning: invalid value encountered in sqrt\n",
            "  import sys\n"
          ]
        },
        {
          "output_type": "display_data",
          "data": {
            "image/png": "[encoded data removed]",
            "text/plain": [
              "<Figure size 432x288 with 1 Axes>"
            ]
          },
          "metadata": {
            "needs_background": "light"
          }
        }
      ]
    },
    {
      "cell_type": "code",
      "metadata": {
        "colab": {
          "base_uri": "https://localhost:8080/",
          "height": 248
        },
        "id": "m6wZDJ2L74Fd",
        "outputId": "da80a0a1-e424-4c68-eb26-544828c41f0f"
      },
      "source": [
        "ax.view_init(60, 35)\n",
        "fig"
      ],
      "execution_count": 66,
      "outputs": [
        {
          "output_type": "execute_result",
          "data": {
            "image/png": "[encoded data removed]",
            "text/plain": [
              "<Figure size 432x288 with 1 Axes>"
            ]
          },
          "metadata": {},
          "execution_count": 66
        }
      ]
    },
    {
      "cell_type": "markdown",
      "metadata": {
        "id": "crOatGuc6HW2"
      },
      "source": [
        "**Example 2:** $f(x,y)=\\arctan(x+2y),\\quad P(1,0)$"
      ]
    },
    {
      "cell_type": "code",
      "metadata": {
        "colab": {
          "base_uri": "https://localhost:8080/"
        },
        "id": "tPtWC5TB6YZn",
        "outputId": "a5bd280c-08e2-497c-f4a2-1cfeaf349f4b"
      },
      "source": [
        "# Example 2\n",
        "x = symbols('x')\n",
        "y = symbols('y')\n",
        "function_expression = atan(x+2*y)\n",
        "variable_list = [x,y]\n",
        "evaluation_point = [1,0]\n",
        "degree=1\n",
        "print(Taylor_polynomial_sympy(function_expression, variable_list, evaluation_point, degree))\n",
        "degree=2\n",
        "print(Taylor_polynomial_sympy(function_expression, variable_list, evaluation_point, degree))\n"
      ],
      "execution_count": 52,
      "outputs": [
        {
          "output_type": "stream",
          "name": "stdout",
          "text": [
            "x/2 + y - 1/2 + pi/4\n",
            "x/2 - y**2 - y*(x - 1) + y - (x - 1)**2/4 - 1/2 + pi/4\n"
          ]
        }
      ]
    },
    {
      "cell_type": "markdown",
      "metadata": {
        "id": "J0fBEc_-6elH"
      },
      "source": [
        "**Example 3:** $f(x,y)=\\ln(x^2 + y^2 + 1),\\quad P(0,0)$"
      ]
    },
    {
      "cell_type": "code",
      "metadata": {
        "colab": {
          "base_uri": "https://localhost:8080/"
        },
        "id": "GEVnXcvN6esb",
        "outputId": "578910f6-c2db-4c42-c3a7-897da4aff678"
      },
      "source": [
        "# Example 3\n",
        "x = symbols('x')\n",
        "y = symbols('y')\n",
        "function_expression = ln(x**2+y**2+1)\n",
        "variable_list = [x,y]\n",
        "evaluation_point = [0,0]\n",
        "degree=1\n",
        "print(Taylor_polynomial_sympy(function_expression, variable_list, evaluation_point, degree))\n",
        "degree=2\n",
        "print(Taylor_polynomial_sympy(function_expression, variable_list, evaluation_point, degree))"
      ],
      "execution_count": 51,
      "outputs": [
        {
          "output_type": "stream",
          "name": "stdout",
          "text": [
            "0\n",
            "x**2 + y**2\n"
          ]
        }
      ]
    }
  ]
}