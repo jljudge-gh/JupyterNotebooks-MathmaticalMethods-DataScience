{
  "nbformat": 4,
  "nbformat_minor": 0,
  "metadata": {
    "colab": {
      "name": "2.4 Maximum Likelihood Estimation.ipynb",
      "provenance": [],
      "collapsed_sections": [],
      "authorship_tag": "ABX9TyMniqRvDHNN75+VtQ0LBdv7",
      "include_colab_link": true
    },
    "kernelspec": {
      "name": "python3",
      "display_name": "Python 3"
    },
    "language_info": {
      "name": "python"
    }
  },
  "cells": [
    {
      "cell_type": "markdown",
      "metadata": {
        "id": "view-in-github",
        "colab_type": "text"
      },
      "source": [
        "<a href=\"https://colab.research.google.com/github/jljudge-gh/JupyterNotebooks-MathmaticalMethods-DataScience/blob/main/2_4_Maximum_Likelihood_Estimation.ipynb\" target=\"_parent\"><img src=\"https://colab.research.google.com/assets/colab-badge.svg\" alt=\"Open In Colab\"/></a>"
      ]
    },
    {
      "cell_type": "markdown",
      "metadata": {
        "id": "5SkSZDw2l_LJ"
      },
      "source": [
        "# 2.4 Maximum Likelihood Estimation"
      ]
    },
    {
      "cell_type": "markdown",
      "metadata": {
        "id": "x8sX2dDKl_X9"
      },
      "source": [
        "## 2.4.1 MLE for Random Samples"
      ]
    },
    {
      "cell_type": "markdown",
      "metadata": {
        "id": "A3Wq84tzmAqI"
      },
      "source": [
        "Maximum likelihood estimation (MLE) is an effective approach of estimating the parameters of a probability distribution through maximizing a likelihood function. The point in the parameter space that maximizes the likelihood function is called the maximum likelihood estimate. The logic of maximum likelihood is both intuitive and flexible. As a result, the method has become a dominant means of statistical inference\n"
      ]
    },
    {
      "cell_type": "markdown",
      "metadata": {
        "id": "hKFwI2UNmNJk"
      },
      "source": [
        "### Definition 2.4.1\n",
        "Let $X_{1}, X_{2}, \\ldots, X_{n}$ have joint $\\mathrm{pmf}$ or pdf\n",
        "$$\n",
        "f\\left(x_{1}, x_{2}, \\ldots, x_{n} ; \\theta_{1}, \\ldots, \\theta_{m}\\right)\n",
        "$$\n",
        "where the parameters $\\theta_{1}, \\ldots, \\theta_{m}$ have unknown values. When $x_{1}, \\ldots, x_{n}$ are the observed sample values and (2.4.1) is regarded as a function of $\\theta_{1}, \\ldots, \\theta_{m}$, it is called the likelihood function. The maximum likelihood estimates (mle's) $\\hat{\\theta}_{1}, \\ldots, \\hat{\\theta}_{m}$ are those values of the $\\theta_{i}$ 's that maximize the likelihood function, so that\n",
        "$$\n",
        "f\\left(x_{1}, \\ldots, x_{n} ; \\hat{\\theta}_{1}, \\ldots, \\hat{\\theta}_{m}\\right) \\geq f\\left(x_{1}, \\ldots, x_{n} ; \\theta_{1}, \\ldots, \\theta_{m}\\right) \\text { for all } \\theta_{1}, \\ldots, \\theta_{m}\n",
        "$$\n",
        "When the $X_{i}$ 's are substituted in place of the $x_{i}$ 's, the maximum likelihood estimators result."
      ]
    },
    {
      "cell_type": "markdown",
      "metadata": {
        "id": "TBpVunqTmTO-"
      },
      "source": [
        "## 2.4.2 Linear Regression"
      ]
    },
    {
      "cell_type": "markdown",
      "metadata": {
        "id": "PhY5gZmJmTRc"
      },
      "source": [
        "Given input data points $\\left\\{\\left(\\mathbf{x}_{i}, y_{i}\\right)\\right\\}_{i=1}^{n}$, we seek an affine function to fit the data and each $\\mathbf{x}_{i}=\\left(x_{i 1}, \\ldots, x_{i p}\\right)$. The common approach involves finding coefficients $\\beta_{j}, j=1 \\ldots, p$ 's that minimize the criterion\n",
        "$$\n",
        "\\sum_{i=1}^{n}\\left(y_{i}-\\hat{y}_{i}\\right)^{2}\n",
        "$$\n",
        "where\n",
        "$$\n",
        "\\hat{y}_{i}=\\beta_{0}+\\beta_{1} x_{i 1}+\\ldots+\\beta_{p} x_{i p}\n",
        "$$\n",
        "Now we wish to discuss it from a probabilistic point of view by the maximum likelihood estimation. Consider that we have $n$ points, each of which is drawn in an independent and identically distributed (i.i.d.) way from the normal distribution. For a given, $\\mu, \\sigma^{2}$, the probability of those $n$ points being drawn define the likelihood function, which are just the multiplication of $n$ normal probability density functions (pdf) (because they are independent).\n",
        "$$\n",
        "\\mathscr{P}(\\mu \\mid y)=\\prod_{i=1}^{n} P_{Y}\\left(y_{i} \\mid \\mu, \\sigma^{2}\\right)=\\prod_{i=1}^{n} \\frac{1}{\\sigma \\sqrt{2 \\pi}} e^{-\\frac{\\left(y_{i}-\\mu\\right)^{2}}{2 \\sigma^{2}}}\n",
        "$$\n",
        "Now understand that $y$ is a random variable.\n",
        "$$\n",
        "y_{i}=\\hat{y}_{i}+\\varepsilon\n",
        "$$\n",
        "where $\\varepsilon \\sim N\\left(0, \\sigma^{2}\\right)$. Thus, $y_{i}$ is a normal variable with mean as a linear function of $\\mathbf{x}$ and a fixed standard deviation:\n",
        "$$\n",
        "y_{i} \\sim N\\left(\\hat{y}_{i}, \\sigma^{2}\\right)\n",
        "$$\n",
        "As a result, for each $y_{i}$, we choose $\\mu$ in the normal distributions in (2.4.2) as\n",
        "$$\n",
        "\\mu_{i}=\\hat{y}_{i}\n",
        "$$\n",
        "Hence we derive the maximum likelihood estimate\n",
        "$$\n",
        "\\begin{aligned}\n",
        "\\hat{\\beta}=\\arg \\max \\mathscr{P}(\\beta \\mid y) &=\\arg \\max _{\\beta} \\prod_{i=1}^{n} \\frac{1}{\\sigma \\sqrt{2 \\pi}} e^{-\\frac{\\left(y_{i}-\\hat{y}_{i}\\right)^{2}}{2 \\sigma^{2}}} \\\\\n",
        "&=\\arg \\max _{\\beta} \\log \\left(\\prod_{i=1}^{n} \\frac{1}{\\sigma \\sqrt{2 \\pi}} e^{\\left.-\\frac{\\left(y_{i}-\\hat{y}_{i}\\right)^{2}}{2 \\sigma^{2}}\\right)}\\right.\\\\\n",
        "&=\\arg \\max _{\\beta} \\sum_{i=1}^{n} \\log \\left(\\frac{1}{\\sigma \\sqrt{2 \\pi}}\\right)+\\log \\left(e^{\\left.-\\frac{\\left(y_{i}-\\hat{y}_{i}\\right)^{2}}{2 \\sigma^{2}}\\right)}\\right.\\\\\n",
        "&=\\arg \\max _{\\beta} \\sum_{i=1}^{n} \\log \\left(e^{\\left.-\\frac{\\left(y_{i}-\\hat{y}_{i}\\right)^{2}}{2 \\sigma^{2}}\\right)}\\right.\\\\\n",
        "&=\\arg \\max _{\\beta} \\sum_{i=1}^{n}-\\frac{\\left(y_{i}-\\hat{y}_{i}\\right)^{2}}{2 \\sigma^{2}} \\\\\n",
        "&=\\arg \\min _{\\beta} \\sum_{i=1}^{n}\\left(y_{i}-\\hat{y}_{i}\\right)^{2}\n",
        "\\end{aligned}\n",
        "$$\n",
        "which is exactly the least square problem we discussed before."
      ]
    },
    {
      "cell_type": "markdown",
      "metadata": {
        "id": "7hECSNMNnj73"
      },
      "source": [
        "## Maximum Likelihood Estimation in Python "
      ]
    },
    {
      "cell_type": "markdown",
      "metadata": {
        "id": "3KOfGR5knwT_"
      },
      "source": [
        "Here, we perform simple linear regression on synthetic data. The data is ensured to be normally distributed by incorporating some random Gaussian noises. Data can be said to be normally distributed if its residual follows the normal distribution—Import the necessary libraries."
      ]
    },
    {
      "cell_type": "code",
      "metadata": {
        "id": "CTXYdIUxnxQu"
      },
      "source": [
        "import numpy as np\n",
        "import pandas as pd\n",
        "from matplotlib import pyplot as plt\n",
        "import seaborn as sns\n",
        "from statsmodels import api\n",
        "from scipy import stats\n",
        "from scipy.optimize import minimize "
      ],
      "execution_count": 9,
      "outputs": []
    },
    {
      "cell_type": "code",
      "metadata": {
        "colab": {
          "base_uri": "https://localhost:8080/",
          "height": 206
        },
        "id": "gUPyg44unxXB",
        "outputId": "dc7c4700-98a5-471f-b793-53fc7f8584f8"
      },
      "source": [
        "# generate an independent variable \n",
        "x = np.linspace(-10, 30, 100)\n",
        "# generate a normally distributed residual\n",
        "e = np.random.normal(10, 5, 100)\n",
        "# generate ground truth\n",
        "y = 10 + 4*x + e\n",
        "df = pd.DataFrame({'x':x, 'y':y})\n",
        "df.head() "
      ],
      "execution_count": 10,
      "outputs": [
        {
          "output_type": "execute_result",
          "data": {
            "text/html": [
              "<div>\n",
              "<style scoped>\n",
              "    .dataframe tbody tr th:only-of-type {\n",
              "        vertical-align: middle;\n",
              "    }\n",
              "\n",
              "    .dataframe tbody tr th {\n",
              "        vertical-align: top;\n",
              "    }\n",
              "\n",
              "    .dataframe thead th {\n",
              "        text-align: right;\n",
              "    }\n",
              "</style>\n",
              "<table border=\"1\" class=\"dataframe\">\n",
              "  <thead>\n",
              "    <tr style=\"text-align: right;\">\n",
              "      <th></th>\n",
              "      <th>x</th>\n",
              "      <th>y</th>\n",
              "    </tr>\n",
              "  </thead>\n",
              "  <tbody>\n",
              "    <tr>\n",
              "      <th>0</th>\n",
              "      <td>-10.000000</td>\n",
              "      <td>-14.899883</td>\n",
              "    </tr>\n",
              "    <tr>\n",
              "      <th>1</th>\n",
              "      <td>-9.595960</td>\n",
              "      <td>-22.827566</td>\n",
              "    </tr>\n",
              "    <tr>\n",
              "      <th>2</th>\n",
              "      <td>-9.191919</td>\n",
              "      <td>-15.686805</td>\n",
              "    </tr>\n",
              "    <tr>\n",
              "      <th>3</th>\n",
              "      <td>-8.787879</td>\n",
              "      <td>-22.069221</td>\n",
              "    </tr>\n",
              "    <tr>\n",
              "      <th>4</th>\n",
              "      <td>-8.383838</td>\n",
              "      <td>-6.485108</td>\n",
              "    </tr>\n",
              "  </tbody>\n",
              "</table>\n",
              "</div>"
            ],
            "text/plain": [
              "           x          y\n",
              "0 -10.000000 -14.899883\n",
              "1  -9.595960 -22.827566\n",
              "2  -9.191919 -15.686805\n",
              "3  -8.787879 -22.069221\n",
              "4  -8.383838  -6.485108"
            ]
          },
          "metadata": {},
          "execution_count": 10
        }
      ]
    },
    {
      "cell_type": "code",
      "metadata": {
        "colab": {
          "base_uri": "https://localhost:8080/",
          "height": 279
        },
        "id": "fV14VN_en2l_",
        "outputId": "89838ffd-44d0-4f7a-9e05-4474737c0465"
      },
      "source": [
        "sns.regplot(x='x', y='y', data = df)\n",
        "plt.show() "
      ],
      "execution_count": 14,
      "outputs": [
        {
          "output_type": "display_data",
          "data": {
            "image/png": "[encoded data removed]",
            "text/plain": [
              "<Figure size 432x288 with 1 Axes>"
            ]
          },
          "metadata": {
            "needs_background": "light"
          }
        }
      ]
    },
    {
      "cell_type": "markdown",
      "metadata": {
        "id": "iY265BETn6kJ"
      },
      "source": [
        "The data is normally distributed, and the output variable is a continuously varying number. Hence, we can use the Ordinary Least Squares (OLS) method to determine the model parameters and use them as a benchmark to evaluate the Maximum Likelihood Estimation approach. Apply the OLS algorithm to the synthetic data and find the model parameters."
      ]
    },
    {
      "cell_type": "code",
      "metadata": {
        "colab": {
          "base_uri": "https://localhost:8080/",
          "height": 452
        },
        "id": "G4PZmc8dn4bY",
        "outputId": "76f79d26-9b44-4129-b822-17b0c05fae11"
      },
      "source": [
        " features = api.add_constant(df.x)\n",
        " model = api.OLS(y, features).fit()\n",
        " model.summary() "
      ],
      "execution_count": 4,
      "outputs": [
        {
          "output_type": "execute_result",
          "data": {
            "text/html": [
              "<table class=\"simpletable\">\n",
              "<caption>OLS Regression Results</caption>\n",
              "<tr>\n",
              "  <th>Dep. Variable:</th>            <td>y</td>        <th>  R-squared:         </th> <td>   0.985</td>\n",
              "</tr>\n",
              "<tr>\n",
              "  <th>Model:</th>                   <td>OLS</td>       <th>  Adj. R-squared:    </th> <td>   0.985</td>\n",
              "</tr>\n",
              "<tr>\n",
              "  <th>Method:</th>             <td>Least Squares</td>  <th>  F-statistic:       </th> <td>   6553.</td>\n",
              "</tr>\n",
              "<tr>\n",
              "  <th>Date:</th>             <td>Mon, 27 Sep 2021</td> <th>  Prob (F-statistic):</th> <td>1.43e-91</td>\n",
              "</tr>\n",
              "<tr>\n",
              "  <th>Time:</th>                 <td>00:20:53</td>     <th>  Log-Likelihood:    </th> <td> -315.28</td>\n",
              "</tr>\n",
              "<tr>\n",
              "  <th>No. Observations:</th>      <td>   100</td>      <th>  AIC:               </th> <td>   634.6</td>\n",
              "</tr>\n",
              "<tr>\n",
              "  <th>Df Residuals:</th>          <td>    98</td>      <th>  BIC:               </th> <td>   639.8</td>\n",
              "</tr>\n",
              "<tr>\n",
              "  <th>Df Model:</th>              <td>     1</td>      <th>                     </th>     <td> </td>   \n",
              "</tr>\n",
              "<tr>\n",
              "  <th>Covariance Type:</th>      <td>nonrobust</td>    <th>                     </th>     <td> </td>   \n",
              "</tr>\n",
              "</table>\n",
              "<table class=\"simpletable\">\n",
              "<tr>\n",
              "    <td></td>       <th>coef</th>     <th>std err</th>      <th>t</th>      <th>P>|t|</th>  <th>[0.025</th>    <th>0.975]</th>  \n",
              "</tr>\n",
              "<tr>\n",
              "  <th>const</th> <td>   20.6409</td> <td>    0.753</td> <td>   27.396</td> <td> 0.000</td> <td>   19.146</td> <td>   22.136</td>\n",
              "</tr>\n",
              "<tr>\n",
              "  <th>x</th>     <td>    3.9700</td> <td>    0.049</td> <td>   80.952</td> <td> 0.000</td> <td>    3.873</td> <td>    4.067</td>\n",
              "</tr>\n",
              "</table>\n",
              "<table class=\"simpletable\">\n",
              "<tr>\n",
              "  <th>Omnibus:</th>       <td> 1.644</td> <th>  Durbin-Watson:     </th> <td>   1.850</td>\n",
              "</tr>\n",
              "<tr>\n",
              "  <th>Prob(Omnibus):</th> <td> 0.440</td> <th>  Jarque-Bera (JB):  </th> <td>   1.693</td>\n",
              "</tr>\n",
              "<tr>\n",
              "  <th>Skew:</th>          <td>-0.268</td> <th>  Prob(JB):          </th> <td>   0.429</td>\n",
              "</tr>\n",
              "<tr>\n",
              "  <th>Kurtosis:</th>      <td> 2.655</td> <th>  Cond. No.          </th> <td>    20.3</td>\n",
              "</tr>\n",
              "</table><br/><br/>Warnings:<br/>[1] Standard Errors assume that the covariance matrix of the errors is correctly specified."
            ],
            "text/plain": [
              "<class 'statsmodels.iolib.summary.Summary'>\n",
              "\"\"\"\n",
              "                            OLS Regression Results                            \n",
              "==============================================================================\n",
              "Dep. Variable:                      y   R-squared:                       0.985\n",
              "Model:                            OLS   Adj. R-squared:                  0.985\n",
              "Method:                 Least Squares   F-statistic:                     6553.\n",
              "Date:                Mon, 27 Sep 2021   Prob (F-statistic):           1.43e-91\n",
              "Time:                        00:20:53   Log-Likelihood:                -315.28\n",
              "No. Observations:                 100   AIC:                             634.6\n",
              "Df Residuals:                      98   BIC:                             639.8\n",
              "Df Model:                           1                                         \n",
              "Covariance Type:            nonrobust                                         \n",
              "==============================================================================\n",
              "                 coef    std err          t      P>|t|      [0.025      0.975]\n",
              "------------------------------------------------------------------------------\n",
              "const         20.6409      0.753     27.396      0.000      19.146      22.136\n",
              "x              3.9700      0.049     80.952      0.000       3.873       4.067\n",
              "==============================================================================\n",
              "Omnibus:                        1.644   Durbin-Watson:                   1.850\n",
              "Prob(Omnibus):                  0.440   Jarque-Bera (JB):                1.693\n",
              "Skew:                          -0.268   Prob(JB):                        0.429\n",
              "Kurtosis:                       2.655   Cond. No.                         20.3\n",
              "==============================================================================\n",
              "\n",
              "Warnings:\n",
              "[1] Standard Errors assume that the covariance matrix of the errors is correctly specified.\n",
              "\"\"\""
            ]
          },
          "metadata": {},
          "execution_count": 4
        }
      ]
    },
    {
      "cell_type": "markdown",
      "metadata": {
        "id": "1nFokSe2oAbP"
      },
      "source": [
        "We get the intercept and regression coefficient values of the simple linear regression model. Further, we can derive the standard deviation of the normal distribution with the following codes."
      ]
    },
    {
      "cell_type": "code",
      "metadata": {
        "colab": {
          "base_uri": "https://localhost:8080/"
        },
        "id": "B81vVeMuoBE4",
        "outputId": "a585f941-065e-4883-981b-2e4f1522aee0"
      },
      "source": [
        "res = model.resid\n",
        "standard_dev = np.std(res)\n",
        "standard_dev "
      ],
      "execution_count": 5,
      "outputs": [
        {
          "output_type": "execute_result",
          "data": {
            "text/plain": [
              "5.662206074008264"
            ]
          },
          "metadata": {},
          "execution_count": 5
        }
      ]
    },
    {
      "cell_type": "markdown",
      "metadata": {
        "id": "wuW3OxOtoH2q"
      },
      "source": [
        "As we have solved the simple linear regression problem with an OLS model, it is time to solve the same problem by formulating it with Maximum Likelihood Estimation.\n",
        "\n",
        "Define a user-defined Python function that can be iteratively called to determine the negative log-likelihood value. The key idea of formulating this function is that it must contain two elements: the first is the model building equation (here, the simple linear regression). The second is the logarithmic value of the probability density function (here, the log PDF of normal distribution). Since we need negative log-likelihood, it is obtained just by negating the log-likelihood."
      ]
    },
    {
      "cell_type": "code",
      "metadata": {
        "id": "nIfYo6RUoH9x"
      },
      "source": [
        "# MLE function\n",
        "# ml modeling and neg LL calculation\n",
        "def MLE_Norm(parameters):\n",
        "  # extract parameters\n",
        "  const, beta, std_dev = parameters\n",
        "  # predict the output\n",
        "  pred = const + beta*x\n",
        "  # Calculate the log-likelihood for normal distribution\n",
        "  LL = np.sum(stats.norm.logpdf(y, pred, std_dev))\n",
        "  # Calculate the negative log-likelihood\n",
        "  neg_LL = -1*LL\n",
        "  return neg_LL "
      ],
      "execution_count": 6,
      "outputs": []
    },
    {
      "cell_type": "markdown",
      "metadata": {
        "id": "zaZE0k9toMln"
      },
      "source": [
        "Minimize the negative log-likelihood of the generated data using the minimize method available with SciPy’s optimize module."
      ]
    },
    {
      "cell_type": "code",
      "metadata": {
        "colab": {
          "base_uri": "https://localhost:8080/"
        },
        "id": "7qX3z9aaoMrX",
        "outputId": "e8c202fa-25ab-4ebd-b279-d89f1191fee5"
      },
      "source": [
        "# minimize arguments: function, intial_guess_of_parameters, method\n",
        "mle_model = minimize(MLE_Norm, np.array([2,2,2]), method='L-BFGS-B')\n",
        "mle_model "
      ],
      "execution_count": 7,
      "outputs": [
        {
          "output_type": "execute_result",
          "data": {
            "text/plain": [
              "      fun: 315.2752115206695\n",
              " hess_inv: <3x3 LbfgsInvHessProduct with dtype=float64>\n",
              "      jac: array([ 0.00000000e+00, -2.27373675e-05, -5.68434189e-06])\n",
              "  message: b'CONVERGENCE: REL_REDUCTION_OF_F_<=_FACTR*EPSMCH'\n",
              "     nfev: 224\n",
              "      nit: 29\n",
              "   status: 0\n",
              "  success: True\n",
              "        x: array([20.6409492 ,  3.96998102,  5.66220544])"
            ]
          },
          "metadata": {},
          "execution_count": 7
        }
      ]
    },
    {
      "cell_type": "markdown",
      "metadata": {
        "id": "gfnLTPROoMza"
      },
      "source": [
        "The MLE approach arrives at the final optimal solution after 35 iterations. The model’s parameters, the intercept, the regression coefficient and the standard deviation are well matching to those obtained using the OLS approach. \n",
        "\n",
        "[Source](https://analyticsindiamag.com/maximum-likelihood-estimation-python-guide/)"
      ]
    }
  ]
}