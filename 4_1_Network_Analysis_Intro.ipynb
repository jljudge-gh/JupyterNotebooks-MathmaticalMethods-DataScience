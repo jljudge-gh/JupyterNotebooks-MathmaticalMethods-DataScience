{
  "nbformat": 4,
  "nbformat_minor": 0,
  "metadata": {
    "colab": {
      "name": "4.1 Network Analysis Intro.ipynb",
      "provenance": [],
      "collapsed_sections": [],
      "include_colab_link": true
    },
    "kernelspec": {
      "name": "python3",
      "display_name": "Python 3"
    }
  },
  "cells": [
    {
      "cell_type": "markdown",
      "metadata": {
        "id": "view-in-github",
        "colab_type": "text"
      },
      "source": [
        "<a href=\"https://colab.research.google.com/github/jljudge-gh/JupyterNotebooks-MathmaticalMethods-DataScience/blob/main/4_1_Network_Analysis_Intro.ipynb\" target=\"_parent\"><img src=\"https://colab.research.google.com/assets/colab-badge.svg\" alt=\"Open In Colab\"/></a>"
      ]
    },
    {
      "cell_type": "markdown",
      "metadata": {
        "id": "ZAVBRxkJyg1D"
      },
      "source": [
        "# **4.1** Network Analysis - Introduction"
      ]
    },
    {
      "cell_type": "markdown",
      "metadata": {
        "id": "acIQsnyiyg1H"
      },
      "source": [
        "Network analysis is essential in analysis of data not only because social\n",
        "networks create huge amount of data, but also many data have networkstructured.\n",
        "One of simple ways to introduce a network structure is to analyze\n",
        "correlations between variables and create correlation networks, which\n",
        "are widely used data mining method for studying biological networks ( for\n",
        "example, biological networks) based on pairwise correlations between variables.\n",
        "\n",
        "\n",
        "Networks can be conveniently modeled by graphs, which we often refer\n",
        "to as a social graph. The individuals within a network are the nodes, and\n",
        "an edge connects two nodes if the nodes are related by the relationship that\n",
        "characterizes the network. The explosive growth of social media in recent\n",
        "years has attracted millions of end users, thus creating social graphs with\n",
        "millions of nodes and billions of edges reflecting the interactions and relationship\n",
        "between these nodes.\n",
        "\n",
        "\n",
        "Networks often exhibit community structure with inherent clusters. Detecting\n",
        "clusters or communities is one of the critical tasks in network analysis\n",
        "because of its broad applications to matters such as friend recommendations,\n",
        "link predictions and collaborative filtering in online social networks. From the\n",
        "graph theory perspective, clustering and community detection essentially are\n",
        "to discover a group of nodes in a graph that are more connected with eachother within the group than those nodes outside the group. Given the size\n",
        "and complexity of todays’ networks, clustering and community detection in\n",
        "these networks face the inherent challenges.\n",
        "\n",
        "\n",
        "Communities (clusters) are essential to gain spatio-temporal inside into\n",
        "big datasets from networks. Spatial distances often describe the strength of\n",
        "network connectivity among communities (clusters) rather than individual\n",
        "nodes. As a result, good clustering results will enable us to capture key characteristics\n",
        "of datasets in networks."
      ]
    },
    {
      "cell_type": "markdown",
      "metadata": {
        "id": "OFnt_AeZyg1H"
      },
      "source": [
        "## **4.1.1** Graph Models"
      ]
    },
    {
      "cell_type": "markdown",
      "metadata": {
        "id": "t_6tr5wnyg1H"
      },
      "source": [
        "In this section, we briefly review some of the common notation used in graphs. Any graph consists of both a set of objects, called nodes, and the connections between these nodes, called edges. Mathematically, a graph $G$ is denoted as pair $G(V, E)$, where $V=\\left\\{v_{1}, v_{2}, \\ldots v_{n}\\right\\}$ represents the set of nodes and $E=$ $\\left\\{e_{1}, e_{2}, \\ldots, e_{m}\\right\\}$ represents the set of edges and the size of the set is commonly shown as $m=|E|$. Edges are also represented by their endpoints (nodes), so $e\\left(v_{1}, v_{2}\\right)$ or $\\left(v_{1}, v_{2}\\right)$ defines an edge between nodes $v_{1}$ and $v_{2}$. Edges can have directions if one node is connected to another, but not vice versa. When edges have directions, $e\\left(v_{1}, v_{2}\\right)$ is not the same as $e\\left(v_{2}, v_{1}\\right)$. When edges are undirected, nodes are connected both ways and are called undirected edges and this kind of graph is called an undirected graph. Graphs that only have directed edges are called directed graphs and ones that only have undirected edges are called undirected graphs. Finally, mixed graphs have both directed and undirected edges.\n",
        "\n",
        "A sequence of edges where nodes and edges are distinct, $e_{1}\\left(v_{1}, v_{2}\\right), e_{2}\\left(v_{2}, v_{3}\\right)$, $e_{3}\\left(v_{3}, v_{4}\\right), \\ldots, e_{i}\\left(v_{i}, v_{i+1}\\right)$, is called a path. A closed path is called a cycle. The length of a path or cycle is the number of edges traversed in the path or cycle. In a directed graph, we only count directed paths because traversal of edges is only allowed in the direction of the edges. For a connected graph, multiple paths can exist between any pair of nodes. Often, we are interested in the path that has the shortest length. This path is called the shortest path. We will also use the shortest path as distance for modeling on networks. The concept of the neighborhood of a node $v_{i}$ can be generalized using shortest paths. An $n$-hop neighborhood of node $v_{i}$ is the set of nodes that are within $n$ hops distance from the node $v_{i}$.\n",
        "\n",
        "The degree of a node in a graph, which is the number of edges connected to the node, plays a significant role in the study of graphs. For a directed graph, there are two types of degrees 1 ) in-degrees (edges toward the node) and 2 ) out-degrees (edges away from the node). In a network, nodes with the most connections possess the greatest degree of centrality. Degree centrality measures relative levels of importance. We often regard people with many interpersonal connections to be more important than those with few. Indegree centrality describes the popularity of a node and its prominence or prestige. Out-degree centrality describes the gregariousness of the node. For social media, degree represents the number of friends for each given user. On Facebook, a degree represents the number of friends. For Twitter, in-degree and out-degree show the number of followers and followees respectively."
      ]
    },
    {
      "cell_type": "markdown",
      "metadata": {
        "id": "cNwRc9pNyg1H"
      },
      "source": [
        "## **4.1.2** Laplacian Matrix"
      ]
    },
    {
      "cell_type": "markdown",
      "metadata": {
        "id": "yDmPA4rFyg1H"
      },
      "source": [
        "A graph with $n$ nodes can be represented by a $n \\times n$ adjacency matrix. A value of 1 at row $i$, column $j$ in the adjacency matrix indicates a connection between nodes $v_{i}$ and $v_{j}$, and a value of 0 denotes no connection between the two nodes. When generalized, any real number can be used to show the strength of connection between two nodes. In directed graphs, we can have two edges between $i$ and $j$ (one from $i$ to $j$ and one from $j$ to $i$ ), whereas in undirected graphs only one edge can exist. As a result, the adjacency matrix for directed graphs is not in general symmetric, whereas the adjacency matrix for undirected graphs is symmetric $\\left(A=A^{T}\\right)$. In social media, there are many directed and undirected networks. For instance, Facebook is an undirected network and Twitter is a directed network.\n",
        "\n",
        "Consider a weighted graph $G=(V, E)$ with $n$ vertices and $m$ edges each with weights $E_{i, j}$ connecting nodes $i, j$. The adjacency of matrix $M$ of a graph is defined by $M_{i j}=E_{i j}$ if there is an edge $\\{i, j\\}$ and $M_{i j}=0$, otherwise. The Laplacian matrix $L$ of $\\mathrm{G}$ is an $n$ by $n$ symmetric matrix, with one row and column for each vertex, such that\n",
        "$$\n",
        "L_{i j}=\\left\\{\\begin{array}{lr}\n",
        "\\sum_{k} E_{i k}, & i=j \\\\\n",
        "-E_{i j}, & i \\neq j, \\text { and } v_{i} \\text { is adjacent to } v_{j} \\\\\n",
        "0, & \\text { otherwise }\n",
        "\\end{array}\\right.\n",
        "$$\n",
        "In addition, a $n \\times m$ incidence matrix of $G$, denoted by $I_{G}$ has one row per vertex and one column per edge. The column corresponding to edge $\\{i, j\\}$ of $I_{G}$ is zero except the $i$-th and $j$-th entries, which are $\\sqrt{E_{i j}}$ and $-\\sqrt{E_{i j}}$. respectively. Adjacent matrix can effectively describe a graph as demonstrated in the following two examples."
      ]
    },
    {
      "cell_type": "markdown",
      "metadata": {
        "id": "KFjbqHKpyg1H"
      },
      "source": [
        "### Calculating Laplacian Matrix in Python with `scipy`"
      ]
    },
    {
      "cell_type": "markdown",
      "metadata": {
        "id": "cwcKUhJ-yg1I"
      },
      "source": [
        "The Laplacian matrix of a graph is sometimes referred to as the “Kirchoff matrix” or the “admittance matrix”, and is useful in many parts of spectral graph theory. In particular, the eigen-decomposition of the laplacian matrix can give insight into many properties of the graph.\n",
        "\n",
        "We can use `scipy.sparse.csgraph.laplacian` to calculate the Laplacian matrix  of a directed graph."
      ]
    },
    {
      "cell_type": "code",
      "metadata": {
        "colab": {
          "base_uri": "https://localhost:8080/"
        },
        "id": "x4jOYjKryg1I",
        "outputId": "7efcf65a-d11c-4a35-e0f4-f09ca1471825"
      },
      "source": [
        "import numpy as np\n",
        "from scipy.sparse import csgraph\n",
        "G = np.arange(5) * np.arange(5)[:, np.newaxis]\n",
        "G"
      ],
      "execution_count": 1,
      "outputs": [
        {
          "output_type": "execute_result",
          "data": {
            "text/plain": [
              "array([[ 0,  0,  0,  0,  0],\n",
              "       [ 0,  1,  2,  3,  4],\n",
              "       [ 0,  2,  4,  6,  8],\n",
              "       [ 0,  3,  6,  9, 12],\n",
              "       [ 0,  4,  8, 12, 16]])"
            ]
          },
          "metadata": {},
          "execution_count": 1
        }
      ]
    },
    {
      "cell_type": "code",
      "metadata": {
        "colab": {
          "base_uri": "https://localhost:8080/"
        },
        "id": "BC9FeuR_yg1I",
        "outputId": "67cc6974-ed73-4445-a056-18913b891179"
      },
      "source": [
        "csgraph.laplacian(G, normed=False)"
      ],
      "execution_count": 2,
      "outputs": [
        {
          "output_type": "execute_result",
          "data": {
            "text/plain": [
              "array([[  0,   0,   0,   0,   0],\n",
              "       [  0,   9,  -2,  -3,  -4],\n",
              "       [  0,  -2,  16,  -6,  -8],\n",
              "       [  0,  -3,  -6,  21, -12],\n",
              "       [  0,  -4,  -8, -12,  24]])"
            ]
          },
          "metadata": {},
          "execution_count": 2
        }
      ]
    },
    {
      "cell_type": "markdown",
      "metadata": {
        "id": "O5iDqtOGyRLo"
      },
      "source": [
        "## [Graph Laplacian and Spectral Clustering in Python](https://towardsdatascience.com/graph-laplacian-and-its-application-in-machine-learning-7d9aab021d16)\n"
      ]
    },
    {
      "cell_type": "code",
      "metadata": {
        "id": "TI5dum0IXSJk"
      },
      "source": [
        "import numpy as np\n",
        "from sklearn.datasets import make_moons\n",
        "from sklearn.neighbors import kneighbors_graph\n",
        "from scipy import sparse\n",
        "import networkx as nx\n",
        "import matplotlib.pyplot as plt\n",
        "from sklearn.cluster import KMeans\n",
        "from sklearn.metrics import homogeneity_score, completeness_score,v_measure_score\n",
        "\n",
        "random_state = 213\n",
        "np.random.seed(random_state)"
      ],
      "execution_count": 3,
      "outputs": []
    },
    {
      "cell_type": "markdown",
      "metadata": {
        "id": "Ytt2sxjvhNgx"
      },
      "source": [
        "### 1. Construction of k-nearest graph from dataset"
      ]
    },
    {
      "cell_type": "code",
      "metadata": {
        "id": "00-ZOdaBXnkK",
        "colab": {
          "base_uri": "https://localhost:8080/"
        },
        "outputId": "72364968-371d-470e-aed1-d03f0f0f9b96"
      },
      "source": [
        "data_size = 150\n",
        "features,y = make_moons(n_samples=data_size, noise=0.07, random_state=213)\n",
        "print(y.shape)\n",
        "\n",
        "data_size = features.shape[0]"
      ],
      "execution_count": 5,
      "outputs": [
        {
          "output_type": "stream",
          "name": "stdout",
          "text": [
            "(150,)\n"
          ]
        }
      ]
    },
    {
      "cell_type": "code",
      "metadata": {
        "id": "m5MfFxBoXsTc",
        "colab": {
          "base_uri": "https://localhost:8080/"
        },
        "outputId": "f3f25208-95fa-4555-968e-d8d211354bd6"
      },
      "source": [
        "features.shape, y.shape"
      ],
      "execution_count": 6,
      "outputs": [
        {
          "output_type": "execute_result",
          "data": {
            "text/plain": [
              "((150, 2), (150,))"
            ]
          },
          "metadata": {},
          "execution_count": 6
        }
      ]
    },
    {
      "cell_type": "markdown",
      "metadata": {
        "id": "yiVep8uiY4s8"
      },
      "source": [
        "We can set mode of connectivity as 'distance' for the edges to represent the distance between 2 nodes or specify 'connectivity' to denote presence or absence of an edge between them with edge weight 1 or 0.\n",
        "\n",
        "In case of extreme data points/outliers in the dataset, the outliers in the resulting may even have no connectivity with even a single nearest neighbors. Many real datasets have extreme data points. These data points  can be excluded in the beginning."
      ]
    },
    {
      "cell_type": "code",
      "metadata": {
        "id": "G7raUHXYYINv",
        "colab": {
          "base_uri": "https://localhost:8080/"
        },
        "outputId": "1490ffb0-d0d0-4363-ddca-986992df06f2"
      },
      "source": [
        "n_neighbors = 10\n",
        "knn_dist_graph = kneighbors_graph(X=features, \n",
        "                             n_neighbors=n_neighbors,\n",
        "                             mode='distance',\n",
        "                             metric='euclidean',\n",
        "                             n_jobs=6)\n",
        "n_neighbors"
      ],
      "execution_count": 7,
      "outputs": [
        {
          "output_type": "execute_result",
          "data": {
            "text/plain": [
              "10"
            ]
          },
          "metadata": {},
          "execution_count": 7
        }
      ]
    },
    {
      "cell_type": "code",
      "metadata": {
        "id": "syeC7bdsZmHE",
        "colab": {
          "base_uri": "https://localhost:8080/"
        },
        "outputId": "c4c361c2-bd85-43d1-fdbe-6318c22c45c6"
      },
      "source": [
        "knn_dist_graph.shape"
      ],
      "execution_count": 8,
      "outputs": [
        {
          "output_type": "execute_result",
          "data": {
            "text/plain": [
              "(150, 150)"
            ]
          },
          "metadata": {},
          "execution_count": 8
        }
      ]
    },
    {
      "cell_type": "markdown",
      "metadata": {
        "id": "PrnSKqJvZz3W"
      },
      "source": [
        "It returns a sparse graph with edges representing the distance between our data points. The distance of the first data points with its 50 neighbors is shown below. Note the sparsity of the graph and it will have continuous value representing distance at only those places/indices in the matrix which corresponds to its k nearest neighbours, the rest will be zero.\n",
        "\n"
      ]
    },
    {
      "cell_type": "code",
      "metadata": {
        "id": "HwNtaRk3b6yW",
        "colab": {
          "base_uri": "https://localhost:8080/"
        },
        "outputId": "653114d1-a733-41ac-91c0-e984617886ed"
      },
      "source": [
        "knn_dist_graph.todense()[0][:,:50]"
      ],
      "execution_count": 9,
      "outputs": [
        {
          "output_type": "execute_result",
          "data": {
            "text/plain": [
              "matrix([[0.        , 0.        , 0.07266041, 0.        , 0.        ,\n",
              "         0.        , 0.        , 0.        , 0.        , 0.        ,\n",
              "         0.        , 0.        , 0.        , 0.        , 0.        ,\n",
              "         0.        , 0.        , 0.        , 0.1943875 , 0.        ,\n",
              "         0.        , 0.        , 0.15397041, 0.        , 0.        ,\n",
              "         0.        , 0.        , 0.        , 0.        , 0.        ,\n",
              "         0.        , 0.        , 0.        , 0.        , 0.        ,\n",
              "         0.        , 0.        , 0.        , 0.        , 0.        ,\n",
              "         0.        , 0.        , 0.06969749, 0.        , 0.        ,\n",
              "         0.        , 0.        , 0.        , 0.        , 0.        ]])"
            ]
          },
          "metadata": {},
          "execution_count": 9
        }
      ]
    },
    {
      "cell_type": "markdown",
      "metadata": {
        "id": "bpbXs4kScRPD"
      },
      "source": [
        "This dataset is commonly used to find groups within the data points where similar data points lie in the same class or cluster.\n",
        "\n",
        "Similarly in other such cases when you want to capture similarity within the data points rather than the distance, we can convert this graph to a similarity based graph using a Gaussian kernel with its width (sigma = 1 ) and distance is euclidean distance in the non zero place in the sparse graph above.\n",
        "\n",
        "$W_{ij} = \\exp{\\frac{-d(x1,x2)^2}{2\\sigma ^2}}$\n",
        "\n"
      ]
    },
    {
      "cell_type": "code",
      "metadata": {
        "id": "eY9HcIJNZqkB"
      },
      "source": [
        "sigma = 1"
      ],
      "execution_count": 10,
      "outputs": []
    },
    {
      "cell_type": "markdown",
      "metadata": {
        "id": "SmSFv7-tdeA8"
      },
      "source": [
        "Note that the locations with distance 0 here means the distance is beyond the largest distance of k nearest neighbors. This value can be interpreted as highest similarity when fed to the Gaussian kernel. So we will only apply this kernel to indices containing distances."
      ]
    },
    {
      "cell_type": "code",
      "metadata": {
        "id": "K7GmU89CdbUn",
        "colab": {
          "base_uri": "https://localhost:8080/"
        },
        "outputId": "1f06319f-833e-44ea-c701-9f528f4cac67"
      },
      "source": [
        "  similarity_graph = sparse.csr_matrix(knn_dist_graph.shape)\n",
        "  nzeroindices = knn_dist_graph.nonzero()\n",
        "  similarity_graph[nzeroindices] = np.exp(-np.asarray(knn_dist_graph[nzeroindices])**2 / 2.0 * sigma**2)\n"
      ],
      "execution_count": 11,
      "outputs": [
        {
          "output_type": "stream",
          "name": "stderr",
          "text": [
            "/usr/local/lib/python3.7/dist-packages/scipy/sparse/_index.py:126: SparseEfficiencyWarning: Changing the sparsity structure of a csr_matrix is expensive. lil_matrix is more efficient.\n",
            "  self._set_arrayXarray(i, j, x)\n"
          ]
        }
      ]
    },
    {
      "cell_type": "markdown",
      "metadata": {
        "id": "dhlkJLI6e4Ay"
      },
      "source": [
        "This graph may be assymmetric since it is based on k-nearest neighbors. We need to make this graph symmetric for reasons we will know next in properties of Laplacian. We add the transpose of its graph to itself and divide all the values by 2. \n",
        "\n"
      ]
    },
    {
      "cell_type": "code",
      "metadata": {
        "id": "YwMgsgrpeiX7"
      },
      "source": [
        "similarity_graph = 0.5 * (similarity_graph + similarity_graph.T) "
      ],
      "execution_count": 12,
      "outputs": []
    },
    {
      "cell_type": "code",
      "metadata": {
        "id": "22VRzamsilMv",
        "colab": {
          "base_uri": "https://localhost:8080/"
        },
        "outputId": "75ed0e6e-53cc-4df1-dc46-3ef77bd9965e"
      },
      "source": [
        "similarity_graph.todense()[0][:,:50]"
      ],
      "execution_count": 13,
      "outputs": [
        {
          "output_type": "execute_result",
          "data": {
            "text/plain": [
              "matrix([[0.        , 0.        , 0.99736371, 0.        , 0.        ,\n",
              "         0.        , 0.        , 0.        , 0.        , 0.        ,\n",
              "         0.        , 0.        , 0.        , 0.        , 0.        ,\n",
              "         0.        , 0.        , 0.        , 0.98128411, 0.        ,\n",
              "         0.        , 0.        , 0.98821653, 0.        , 0.        ,\n",
              "         0.        , 0.        , 0.        , 0.        , 0.        ,\n",
              "         0.        , 0.        , 0.        , 0.        , 0.        ,\n",
              "         0.        , 0.        , 0.        , 0.        , 0.        ,\n",
              "         0.        , 0.        , 0.99757408, 0.        , 0.        ,\n",
              "         0.        , 0.        , 0.        , 0.        , 0.        ]])"
            ]
          },
          "metadata": {},
          "execution_count": 13
        }
      ]
    },
    {
      "cell_type": "code",
      "metadata": {
        "id": "5iErEA86niR5",
        "colab": {
          "base_uri": "https://localhost:8080/",
          "height": 319
        },
        "outputId": "9d64c8f6-fdfa-4e61-d209-9bbf66eb99b2"
      },
      "source": [
        "# Let's see how the graph looks like\n",
        "nx_graph = nx.from_scipy_sparse_matrix(similarity_graph)\n",
        "\n",
        "nx.draw(nx_graph, with_labels=True)\n",
        "plt.show()"
      ],
      "execution_count": 14,
      "outputs": [
        {
          "output_type": "display_data",
          "data": {
            "image/png": "[encoded data removed]",
            "text/plain": [
              "<Figure size 432x288 with 1 Axes>"
            ]
          },
          "metadata": {}
        }
      ]
    },
    {
      "cell_type": "markdown",
      "metadata": {
        "id": "V5gMZYBohTCX"
      },
      "source": [
        "### 2. Deriving degree matrix from graph\n",
        "\n",
        "$D = Diag(d_1, d_2, ...,d_n)$\n",
        "\n",
        "$d_i = \\sum_{k=1}^N W_{ik}$\n",
        "\n",
        "Where W is our similarity matrix with N data points"
      ]
    },
    {
      "cell_type": "code",
      "metadata": {
        "id": "bizXsdYnhCQ_",
        "colab": {
          "base_uri": "https://localhost:8080/"
        },
        "outputId": "7ef42277-6821-4d5a-ee0b-634b327557f9"
      },
      "source": [
        "degree_matrix = similarity_graph.sum(axis=1)\n",
        "degree_matrix.shape"
      ],
      "execution_count": 15,
      "outputs": [
        {
          "output_type": "execute_result",
          "data": {
            "text/plain": [
              "(150, 1)"
            ]
          },
          "metadata": {},
          "execution_count": 15
        }
      ]
    },
    {
      "cell_type": "code",
      "metadata": {
        "id": "_R3jDk1kjqkU",
        "colab": {
          "base_uri": "https://localhost:8080/"
        },
        "outputId": "e244daf7-8462-49c0-ec62-657c508263f6"
      },
      "source": [
        "degree_matrix[:5]"
      ],
      "execution_count": 16,
      "outputs": [
        {
          "output_type": "execute_result",
          "data": {
            "text/plain": [
              "matrix([[ 9.88985997],\n",
              "        [ 9.84957185],\n",
              "        [ 9.40776641],\n",
              "        [10.39306058],\n",
              "        [10.36893174]])"
            ]
          },
          "metadata": {},
          "execution_count": 16
        }
      ]
    },
    {
      "cell_type": "code",
      "metadata": {
        "id": "ZTTzGdFJmdRC",
        "colab": {
          "base_uri": "https://localhost:8080/"
        },
        "outputId": "5bf27c19-f712-42f2-eac6-5848c685043c"
      },
      "source": [
        "# Checking for outlier data point having no neighbor i.e degree = 0\n",
        "degree_matrix[degree_matrix == 0]"
      ],
      "execution_count": 17,
      "outputs": [
        {
          "output_type": "execute_result",
          "data": {
            "text/plain": [
              "matrix([], shape=(1, 0), dtype=float64)"
            ]
          },
          "metadata": {},
          "execution_count": 17
        }
      ]
    },
    {
      "cell_type": "markdown",
      "metadata": {
        "id": "WNdWpPIvmp8o"
      },
      "source": [
        "At this point you can see any points which have degree equal to zero as outliers. "
      ]
    },
    {
      "cell_type": "markdown",
      "metadata": {
        "id": "EWntWhlwiRVt"
      },
      "source": [
        "### 3. Constructing Normal Laplacian\n",
        "\n",
        "L = D - W"
      ]
    },
    {
      "cell_type": "code",
      "metadata": {
        "id": "x8zM32gvj_zb",
        "colab": {
          "base_uri": "https://localhost:8080/"
        },
        "outputId": "a484f2a4-aeca-4aec-8eac-b05db4ccf978"
      },
      "source": [
        "np.asarray(degree_matrix).shape"
      ],
      "execution_count": 18,
      "outputs": [
        {
          "output_type": "execute_result",
          "data": {
            "text/plain": [
              "(150, 1)"
            ]
          },
          "metadata": {},
          "execution_count": 18
        }
      ]
    },
    {
      "cell_type": "code",
      "metadata": {
        "id": "nHsvtbDGi5br",
        "colab": {
          "base_uri": "https://localhost:8080/"
        },
        "outputId": "12b0db58-d8f1-4382-903e-26608531ae61"
      },
      "source": [
        "np.diag(np.asarray(degree_matrix).reshape(data_size,))"
      ],
      "execution_count": 19,
      "outputs": [
        {
          "output_type": "execute_result",
          "data": {
            "text/plain": [
              "array([[ 9.88985997,  0.        ,  0.        , ...,  0.        ,\n",
              "         0.        ,  0.        ],\n",
              "       [ 0.        ,  9.84957185,  0.        , ...,  0.        ,\n",
              "         0.        ,  0.        ],\n",
              "       [ 0.        ,  0.        ,  9.40776641, ...,  0.        ,\n",
              "         0.        ,  0.        ],\n",
              "       ...,\n",
              "       [ 0.        ,  0.        ,  0.        , ...,  9.88244354,\n",
              "         0.        ,  0.        ],\n",
              "       [ 0.        ,  0.        ,  0.        , ...,  0.        ,\n",
              "         9.87138597,  0.        ],\n",
              "       [ 0.        ,  0.        ,  0.        , ...,  0.        ,\n",
              "         0.        , 10.81779121]])"
            ]
          },
          "metadata": {},
          "execution_count": 19
        }
      ]
    },
    {
      "cell_type": "code",
      "metadata": {
        "id": "YYPKwnbRiK3d"
      },
      "source": [
        "diagonal_matrix = np.diag(np.asarray(degree_matrix).reshape(data_size,))\n",
        "L =  diagonal_matrix - similarity_graph"
      ],
      "execution_count": 20,
      "outputs": []
    },
    {
      "cell_type": "code",
      "metadata": {
        "id": "4h846d83iZv6",
        "colab": {
          "base_uri": "https://localhost:8080/"
        },
        "outputId": "45c333af-1f9b-471d-c34c-0a2f151416bc"
      },
      "source": [
        "L"
      ],
      "execution_count": 21,
      "outputs": [
        {
          "output_type": "execute_result",
          "data": {
            "text/plain": [
              "matrix([[ 9.88985997,  0.        , -0.99736371, ...,  0.        ,\n",
              "          0.        ,  0.        ],\n",
              "        [ 0.        ,  9.84957185,  0.        , ...,  0.        ,\n",
              "          0.        ,  0.        ],\n",
              "        [-0.99736371,  0.        ,  9.40776641, ...,  0.        ,\n",
              "          0.        ,  0.        ],\n",
              "        ...,\n",
              "        [ 0.        ,  0.        ,  0.        , ...,  9.88244354,\n",
              "          0.        ,  0.        ],\n",
              "        [ 0.        ,  0.        ,  0.        , ...,  0.        ,\n",
              "          9.87138597,  0.        ],\n",
              "        [ 0.        ,  0.        ,  0.        , ...,  0.        ,\n",
              "          0.        , 10.81779121]])"
            ]
          },
          "metadata": {},
          "execution_count": 21
        }
      ]
    },
    {
      "cell_type": "markdown",
      "metadata": {
        "id": "1YCgIUcBm42l"
      },
      "source": [
        "Note:- By subtracting the similarity matrix from the degree matrix, the effect of cycles in a graph gets nullified. Finally, the Laplacian conatains the degree on diagonals and negative of edge weights in the rest of the matrix.\n"
      ]
    },
    {
      "cell_type": "code",
      "metadata": {
        "id": "YfL9DoR2pDcl"
      },
      "source": [
        "# We can also obtain the Laplacian using scipy \n",
        "\n",
        "L = sparse.csgraph.laplacian(csgraph=similarity_graph)"
      ],
      "execution_count": 22,
      "outputs": []
    },
    {
      "cell_type": "markdown",
      "metadata": {
        "id": "hwN477reoSTF"
      },
      "source": [
        "### Properties of Laplacian\n",
        "\n",
        "1. Real symmetric\n",
        "\n",
        "Because its real and symmetric its eigen values are real and its eigen vectors orthogonal."
      ]
    },
    {
      "cell_type": "markdown",
      "metadata": {
        "id": "JNlvVLL2qoU1"
      },
      "source": [
        "2. Positive semi-definite\n",
        "\n",
        "The Laplacian has atleast one eigen value equal to 0. We can check this by its quadratic form. If $x$ is a n x 1 column vector , then $q = x'Lx$ is its quadratic form. \n",
        "\n",
        "A quadratic form is positive semi-definite if -\n",
        "\n",
        "$ Q ≥ 0 $ for all x and Q = 0 for some $ x \\ne 0 $\n",
        "\n",
        "We will set x to be a column vector of 1's."
      ]
    },
    {
      "cell_type": "code",
      "metadata": {
        "id": "TmJreMono34G",
        "colab": {
          "base_uri": "https://localhost:8080/"
        },
        "outputId": "00687687-cfd0-4f4c-ac29-aaf3fe2db87b"
      },
      "source": [
        "x = np.ones(shape=(data_size,1), dtype=int)\n",
        "\n",
        "Q = np.dot(np.dot(x.T, L.todense()), x)\n",
        "\n",
        "Q.round(10)"
      ],
      "execution_count": 23,
      "outputs": [
        {
          "output_type": "execute_result",
          "data": {
            "text/plain": [
              "array([[-0.]])"
            ]
          },
          "metadata": {},
          "execution_count": 23
        }
      ]
    },
    {
      "cell_type": "markdown",
      "metadata": {
        "id": "3intFF78z1hf"
      },
      "source": [
        "Any column vector x containing same values throughout, will result in quadratic form equal to 0.\n",
        "3. The number of zero eigen values of Laplacian is equal to the number of connected components of the graph\n",
        "\n"
      ]
    },
    {
      "cell_type": "code",
      "metadata": {
        "id": "Kbw3oN7xzRW6",
        "colab": {
          "base_uri": "https://localhost:8080/"
        },
        "outputId": "f3b71c95-dc39-435c-cc44-7fbdf0639c51"
      },
      "source": [
        "# Finding eigen values and eigen vectors\n",
        "e, evecs = np.linalg.eig(L.todense())\n",
        "e.shape, evecs.shape"
      ],
      "execution_count": 24,
      "outputs": [
        {
          "output_type": "execute_result",
          "data": {
            "text/plain": [
              "((150,), (150, 150))"
            ]
          },
          "metadata": {},
          "execution_count": 24
        }
      ]
    },
    {
      "cell_type": "code",
      "metadata": {
        "id": "pgP5_B43Te-A",
        "colab": {
          "base_uri": "https://localhost:8080/"
        },
        "outputId": "e09564e1-eaa5-4cd2-f4cc-a5d28854bfb1"
      },
      "source": [
        "# No. of eigen values equal to 0\n",
        "e_rounded_off = e.round(5)\n",
        "e_rounded_off[e_rounded_off == 0].shape"
      ],
      "execution_count": 25,
      "outputs": [
        {
          "output_type": "execute_result",
          "data": {
            "text/plain": [
              "(1,)"
            ]
          },
          "metadata": {},
          "execution_count": 25
        }
      ]
    },
    {
      "cell_type": "code",
      "metadata": {
        "id": "suOZFJY8TxZt",
        "colab": {
          "base_uri": "https://localhost:8080/"
        },
        "outputId": "1a4cd617-b41b-4a11-e694-a1b11c69a2b0"
      },
      "source": [
        "# No. of connected components\n",
        "nx.number_connected_components(nx_graph)"
      ],
      "execution_count": 26,
      "outputs": [
        {
          "output_type": "execute_result",
          "data": {
            "text/plain": [
              "1"
            ]
          },
          "metadata": {},
          "execution_count": 26
        }
      ]
    },
    {
      "cell_type": "markdown",
      "metadata": {
        "id": "8FEndK3fgVPI"
      },
      "source": [
        "4. Two data points similar to each other having high edge weight will have similar values at their corresponding indices in the resulting eigen vectors.\n",
        "One of these eigen vectors in Fiedler vector - Eigen vector correponding to the smallest non-zero eigen value."
      ]
    },
    {
      "cell_type": "code",
      "metadata": {
        "id": "dmSHO2HSWYWK",
        "colab": {
          "base_uri": "https://localhost:8080/",
          "height": 390
        },
        "outputId": "4fce97b7-fb09-4182-a393-4b8e53e31d18"
      },
      "source": [
        "plt.figure(figsize=(8,6))\n",
        "plt.scatter(np.arange(data_size), evecs[:,1].tolist())\n",
        "plt.title(\"Eigen vector plot (Sorted)\")\n",
        "plt.show()"
      ],
      "execution_count": 27,
      "outputs": [
        {
          "output_type": "display_data",
          "data": {
            "image/png": "[encoded data removed]",
            "text/plain": [
              "<Figure size 576x432 with 1 Axes>"
            ]
          },
          "metadata": {
            "needs_background": "light"
          }
        }
      ]
    },
    {
      "cell_type": "markdown",
      "metadata": {
        "id": "-u5lOq8qmJTV"
      },
      "source": [
        "The data points are quite well separated by sign. "
      ]
    },
    {
      "cell_type": "markdown",
      "metadata": {
        "id": "wPA2ktRmh6rC"
      },
      "source": [
        "\n",
        "\n",
        "### Application of Graph Laplacian \n",
        "\n",
        "By extension of all the above properties, and the fact that the eigen vector separates data points in groups, it is used for clustering. This method is called **Spectral clustering**.\n",
        "\n",
        "This is performed by choosing a threshold to separate data points into 2 clusters from the 1st smallest eigen vector. For more than 2 clusters, we can use Kmeans algorithm to obtain k clusters directly from the first smallest K eigen vectors.\n"
      ]
    },
    {
      "cell_type": "code",
      "metadata": {
        "id": "MKkfJ3ETUvE6"
      },
      "source": [
        "# Sort the eigen value \n",
        "sorted_indices = np.argsort(e)"
      ],
      "execution_count": 28,
      "outputs": []
    },
    {
      "cell_type": "code",
      "metadata": {
        "id": "iCO9iJi8WnFz",
        "colab": {
          "base_uri": "https://localhost:8080/",
          "height": 390
        },
        "outputId": "537061b8-0a85-4933-c77e-6b0755f8e7f8"
      },
      "source": [
        "plt.figure(figsize=(8,6))\n",
        "plt.scatter(np.arange(data_size), e)\n",
        "plt.title(\"Eigen values plot\")\n",
        "plt.show()"
      ],
      "execution_count": 29,
      "outputs": [
        {
          "output_type": "display_data",
          "data": {
            "image/png": "[encoded data removed]",
            "text/plain": [
              "<Figure size 576x432 with 1 Axes>"
            ]
          },
          "metadata": {
            "needs_background": "light"
          }
        }
      ]
    },
    {
      "cell_type": "code",
      "metadata": {
        "id": "qfzPtIygV_fG",
        "colab": {
          "base_uri": "https://localhost:8080/",
          "height": 390
        },
        "outputId": "6b5b9fcd-87c0-4d2e-ee3c-1b9e4c839a3d"
      },
      "source": [
        "plt.figure(figsize=(8,6))\n",
        "plt.scatter(np.arange(data_size), np.sort(e))\n",
        "plt.title(\"Eigen values plot (Sorted)\")\n",
        "plt.show()"
      ],
      "execution_count": 30,
      "outputs": [
        {
          "output_type": "display_data",
          "data": {
            "image/png": "[encoded data removed]",
            "text/plain": [
              "<Figure size 576x432 with 1 Axes>"
            ]
          },
          "metadata": {
            "needs_background": "light"
          }
        }
      ]
    },
    {
      "cell_type": "markdown",
      "metadata": {
        "id": "SBCPKeX2pc5R"
      },
      "source": [
        " Use Fiedler vector to partition data points\n",
        "\n",
        "The Fiedler vector is the eigen vector corresponding to smallest non-zero eigen value. Indices of values below 0 are assigned to cluster 1 and the indices of rest of them are assigned to cluster 2. \n",
        "\n",
        "We are able to use this vector this way because this normalized eigen vector is a scaled version of the indicator vector. An indicator vector is associated with every non-zero eigen value of a matrix. Each indicator vector is also orthogonal to each other and ideally conatains binary values 0 or 1 to indicate cluster membership.\n",
        "\n",
        "In this case, instead of indicator vector containing 0's and 1's, we have signed continuous values."
      ]
    },
    {
      "cell_type": "code",
      "metadata": {
        "id": "r7ivnp48pmHW",
        "colab": {
          "base_uri": "https://localhost:8080/",
          "height": 390
        },
        "outputId": "0d4a81d5-7e77-46ee-ed45-925e9a3f0738"
      },
      "source": [
        "# Get smallest non-zero eigen value's index for obtaining partition to cluster\n",
        "fiedler_index = sorted_indices[1]\n",
        "fiedler_index\n",
        "\n",
        "# The eigen vector for smallest non-zero eigen value i.e plotting the Fiedler vector\n",
        "# Plotting eigen values\n",
        "plt.figure(figsize=(8,6))\n",
        "plt.scatter(np.arange(data_size), evecs[:,fiedler_index].tolist())\n",
        "plt.title(\"Eigen (Fiedler) vector plot\")\n",
        "plt.show()\n",
        "\n",
        "fiedler_vector = evecs[:,fiedler_index].copy()\n",
        "\n",
        "# Thresholding the values in this eigen vector at 0\n",
        "fiedler_vector[fiedler_vector < 0.0] = 0\n",
        "fiedler_vector[fiedler_vector > 0.0] = 1\n",
        "\n",
        "new_labels = np.asarray(fiedler_vector)[:,0]"
      ],
      "execution_count": 31,
      "outputs": [
        {
          "output_type": "display_data",
          "data": {
            "image/png": "[encoded data removed]",
            "text/plain": [
              "<Figure size 576x432 with 1 Axes>"
            ]
          },
          "metadata": {
            "needs_background": "light"
          }
        }
      ]
    },
    {
      "cell_type": "markdown",
      "metadata": {
        "id": "ZqmVTBZIqCSY"
      },
      "source": [
        "#### Results\n"
      ]
    },
    {
      "cell_type": "code",
      "metadata": {
        "id": "o_9-rOWEqBEw",
        "colab": {
          "base_uri": "https://localhost:8080/",
          "height": 281
        },
        "outputId": "8e09043b-67c0-4c9c-cc3c-f933e6be0f9c"
      },
      "source": [
        "plt.scatter(features[:,0], features[:,1], c=new_labels.astype(float))\n",
        "plt.title(\"Clusters plot\")\n",
        "plt.show()"
      ],
      "execution_count": 32,
      "outputs": [
        {
          "output_type": "display_data",
          "data": {
            "image/png": "[encoded data removed]",
            "text/plain": [
              "<Figure size 432x288 with 1 Axes>"
            ]
          },
          "metadata": {
            "needs_background": "light"
          }
        }
      ]
    },
    {
      "cell_type": "markdown",
      "metadata": {
        "id": "criDPDg-rmh9"
      },
      "source": [
        "Evaluation with entropy based external clustering evaluation measures"
      ]
    },
    {
      "cell_type": "code",
      "metadata": {
        "id": "ZEWD7dbJqpVS",
        "colab": {
          "base_uri": "https://localhost:8080/"
        },
        "outputId": "266bcf73-fbbf-4799-a20d-7c830876ab60"
      },
      "source": [
        "homogeneity_score(y, new_labels), completeness_score(y, new_labels), v_measure_score(y, new_labels)"
      ],
      "execution_count": 34,
      "outputs": [
        {
          "output_type": "execute_result",
          "data": {
            "text/plain": [
              "(1.0, 1.0, 1.0)"
            ]
          },
          "metadata": {},
          "execution_count": 34
        }
      ]
    },
    {
      "cell_type": "markdown",
      "metadata": {
        "id": "hUVZ_KJtqq39"
      },
      "source": [
        "### Comparison with Kmeans "
      ]
    },
    {
      "cell_type": "code",
      "metadata": {
        "id": "KO04c9Jcqtwr",
        "colab": {
          "base_uri": "https://localhost:8080/",
          "height": 265
        },
        "outputId": "6292f88b-ebc2-4fb3-ffe7-e52e0287ca2e"
      },
      "source": [
        "num_clusters = 2\n",
        "kmean_labels = KMeans(n_clusters=num_clusters, random_state=random_state, n_jobs=6).fit_predict(features)\n",
        "plt.scatter(features[:,0], features[:,1], c=kmean_labels.astype(float))\n",
        "plt.show()"
      ],
      "execution_count": 35,
      "outputs": [
        {
          "output_type": "display_data",
          "data": {
            "image/png": "[encoded data removed]",
            "text/plain": [
              "<Figure size 432x288 with 1 Axes>"
            ]
          },
          "metadata": {
            "needs_background": "light"
          }
        }
      ]
    },
    {
      "cell_type": "code",
      "metadata": {
        "id": "UAY4YSZKrNgB",
        "colab": {
          "base_uri": "https://localhost:8080/"
        },
        "outputId": "fe254716-f7c8-4342-a165-397e725423be"
      },
      "source": [
        "homogeneity_score(y, kmean_labels), completeness_score(y, kmean_labels), v_measure_score(y, kmean_labels)"
      ],
      "execution_count": 36,
      "outputs": [
        {
          "output_type": "execute_result",
          "data": {
            "text/plain": [
              "(0.1836464702880451, 0.1837407327840609, 0.18369358944333708)"
            ]
          },
          "metadata": {},
          "execution_count": 36
        }
      ]
    },
    {
      "cell_type": "markdown",
      "metadata": {
        "id": "4ow6S4i_nq_Z"
      },
      "source": [
        "### Why Eigen value system, though?\n",
        "Because the eigen value system approximates a graph cut.\n",
        "\n",
        "$Cut(V1,V2) = \\sum_{i \\in V_1, j \\in V_2} W_{ij} $\n",
        "\n",
        "Where the graph is bipartitioned into V1 & V2.\n",
        "\n",
        "In the above approach, the eigen values are approximating Normalized graph cut.\n",
        "\n",
        "$ NCut(V1,V2) = \\frac{Cut(V_1, V_2)}{Vol(V_1)} + \\frac{Cut(V_1, V_2)}{Vol(V_2)}$\n",
        "\n",
        "### So how is it so?\n",
        "The above equation of NCut can be re-expressed as Rayleigh's quotient, whose minimum is obtained by the smallest eigen value from a generalized eigen value problem.\n",
        "Let x be an N dimensional indicator vector where $x_i = 1$ if the graph node i is in $V_1$ and 0 otherwise.\n",
        "\n",
        "\n",
        "$min_x Ncut(x) = min_y \\frac{y^T(D-W)y}{y^Ty}$\n",
        "\n",
        "subject to one of the conditions $y^TD1=0$ \n",
        "\n",
        "where $y$ is also subject to constraints as that of our indicator vector $x$.\n",
        "\n",
        "\n",
        "This way the graph partitioning problem gets converted to clustering problem.\n",
        "\n"
      ]
    }
  ]
}